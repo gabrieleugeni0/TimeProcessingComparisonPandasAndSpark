{
 "cells": [
  {
   "cell_type": "markdown",
   "metadata": {},
   "source": [
    "## **Informações contidas na base de dados**\n",
    "\n",
    "**Base 1:**\n",
    "1. ID do filme\n",
    "2. título e ano de lançamento\n",
    "\n",
    "**Base 2:**\n",
    "1. Cust_Id: ID do customer que fez a avaliação\n",
    "2. Rating: avaliação (nota)\n",
    "3. Date: data da avaliação\n",
    "4. Movie_Id: ID do filme"
   ]
  },
  {
   "attachments": {},
   "cell_type": "markdown",
   "metadata": {},
   "source": [
    "### Código para tratamento dos bancos dados com Pandas"
   ]
  },
  {
   "attachments": {},
   "cell_type": "markdown",
   "metadata": {},
   "source": [
    "#### Tratamento do banco de dados da base1 com o nome dos filmes e id de identificação"
   ]
  },
  {
   "cell_type": "code",
   "execution_count": 1,
   "metadata": {},
   "outputs": [],
   "source": [
    "# Importando o Spark\n",
    "from pyspark.sql import SparkSession"
   ]
  },
  {
   "cell_type": "code",
   "execution_count": 2,
   "metadata": {},
   "outputs": [],
   "source": [
    "# Iniciando uma sessao Spark\n",
    "spark = SparkSession.builder.appName('pyspark_treatment').getOrCreate()"
   ]
  },
  {
   "cell_type": "code",
   "execution_count": 3,
   "metadata": {},
   "outputs": [],
   "source": [
    "# Importando a biblioteca time para pegar os tempos de execucao\n",
    "import time"
   ]
  },
  {
   "cell_type": "code",
   "execution_count": 4,
   "metadata": {},
   "outputs": [],
   "source": [
    "# Dicionario para salvar os tempos de execucao para o dataset movies.csv\n",
    "execution_time_spk = {}"
   ]
  },
  {
   "cell_type": "code",
   "execution_count": 5,
   "metadata": {},
   "outputs": [
    {
     "name": "stdout",
     "output_type": "stream",
     "text": [
      "{'import_time_csv': 3.224440574645996}\n"
     ]
    }
   ],
   "source": [
    "# Importando a base de dados dos filmes\n",
    "t1 = time.time()\n",
    "df_movies = spark.read.csv('movies.csv', sep=';', header=False, inferSchema=True)\n",
    "tempo_exec = time.time() - t1\n",
    "execution_time_spk['import_time_csv'] = tempo_exec\n",
    "print(execution_time_spk)"
   ]
  },
  {
   "cell_type": "code",
   "execution_count": 6,
   "metadata": {},
   "outputs": [
    {
     "name": "stdout",
     "output_type": "stream",
     "text": [
      "+---+--------------------+\n",
      "|_c0|                 _c1|\n",
      "+---+--------------------+\n",
      "|  1|(Dinosaur Planet,...|\n",
      "|  2|(Isle of Man TT 2...|\n",
      "|  3|   (Character, 1997)|\n",
      "|  4|(Paula Abdul's Ge...|\n",
      "|  5|(The Rise and Fal...|\n",
      "|  6|        (Sick, 1997)|\n",
      "|  7|       (8 Man, 1992)|\n",
      "|  8|(What the #$*! Do...|\n",
      "|  9|(Class of Nuke 'E...|\n",
      "| 10|     (Fighter, 2001)|\n",
      "| 11|(Full Frame: Docu...|\n",
      "| 12|(My Favorite Brun...|\n",
      "| 13|(Lord of the Ring...|\n",
      "| 14|(Nature: Antarcti...|\n",
      "| 15|(Neil Diamond: Gr...|\n",
      "| 16|   (Screamers, 1996)|\n",
      "| 17|   (7 Seconds, 2005)|\n",
      "| 18|(Immortal Beloved...|\n",
      "| 19|(By Dawn's Early ...|\n",
      "| 20|(Seeta Aur Geeta,...|\n",
      "+---+--------------------+\n",
      "only showing top 20 rows\n",
      "\n"
     ]
    }
   ],
   "source": [
    "# Visualizando a base de dados\n",
    "df_movies.show()"
   ]
  },
  {
   "cell_type": "code",
   "execution_count": 7,
   "metadata": {},
   "outputs": [
    {
     "name": "stdout",
     "output_type": "stream",
     "text": [
      "{'import_time_csv': 3.224440574645996, 'new_column_movie': 0.007007598876953125}\n"
     ]
    }
   ],
   "source": [
    "# Transformando coluna de nomes e anos de lancamento misturados\n",
    "# Coluna com nome do filme\n",
    "\n",
    "# Primeiramente precisamos importar o pyspark.sql.functions\n",
    "from pyspark.sql.functions import *\n",
    "\n",
    "# Eliminando os parentes dos valores da coluna dos nomes dos filmes e das datas de lancamento\n",
    "df_movies = df_movies.withColumn(\"_c1\", regexp_replace(df_movies[\"_c1\"], \"\\(|\\)\", \"\"))\n",
    "\n",
    "# Separando coluna com split pela virgula\n",
    "df_movies = df_movies.withColumn('splited_column', split(col('_c1'), ','))\n",
    "\n",
    "# Pegando primeira parte da coluna splitada e criando a coluna com nome do filme\n",
    "t1 = time.time()\n",
    "df_movies = df_movies.withColumn('Movie_Name', col('splited_column')[0])\n",
    "tempo_exec = time.time() - t1\n",
    "execution_time_spk['new_column_movie'] = tempo_exec\n",
    "print(execution_time_spk)"
   ]
  },
  {
   "cell_type": "code",
   "execution_count": 8,
   "metadata": {},
   "outputs": [
    {
     "name": "stdout",
     "output_type": "stream",
     "text": [
      "{'import_time_csv': 3.224440574645996, 'new_column_movie': 0.007007598876953125, 'new_column_release_year': 0.007005929946899414}\n"
     ]
    }
   ],
   "source": [
    "# Pegando segunda parte da coluna splitada e criando a coluna com ano de lancamento\n",
    "t1 = time.time()\n",
    "df_movies = df_movies.withColumn('Release_Year', col('splited_column')[1])\n",
    "tempo_exec = time.time() - t1\n",
    "execution_time_spk['new_column_release_year'] = tempo_exec\n",
    "print(execution_time_spk)"
   ]
  },
  {
   "cell_type": "code",
   "execution_count": 9,
   "metadata": {},
   "outputs": [
    {
     "name": "stdout",
     "output_type": "stream",
     "text": [
      "+---+--------------------+--------------------+--------------------+------------+\n",
      "|_c0|                 _c1|      splited_column|          Movie_Name|Release_Year|\n",
      "+---+--------------------+--------------------+--------------------+------------+\n",
      "|  1|Dinosaur Planet, ...|[Dinosaur Planet,...|     Dinosaur Planet|        2003|\n",
      "|  2|Isle of Man TT 20...|[Isle of Man TT 2...|Isle of Man TT 20...|        2004|\n",
      "|  3|     Character, 1997|  [Character,  1997]|           Character|        1997|\n",
      "|  4|Paula Abdul's Get...|[Paula Abdul's Ge...|Paula Abdul's Get...|        1994|\n",
      "|  5|The Rise and Fall...|[The Rise and Fal...|The Rise and Fall...|        2004|\n",
      "+---+--------------------+--------------------+--------------------+------------+\n",
      "only showing top 5 rows\n",
      "\n"
     ]
    }
   ],
   "source": [
    "# Visualizando o dataframe modificado\n",
    "df_movies.show(5)"
   ]
  },
  {
   "cell_type": "code",
   "execution_count": 10,
   "metadata": {},
   "outputs": [],
   "source": [
    "# Exclusao da coluna splitada\n",
    "df_movies = df_movies.drop('splited_column')"
   ]
  },
  {
   "cell_type": "code",
   "execution_count": 11,
   "metadata": {},
   "outputs": [
    {
     "name": "stdout",
     "output_type": "stream",
     "text": [
      "{'import_time_csv': 3.224440574645996, 'new_column_movie': 0.007007598876953125, 'new_column_release_year': 0.007005929946899414, 'remove_initial_column': 0.004002571105957031}\n"
     ]
    }
   ],
   "source": [
    "# Exclusao da coluna inicial (_c1) com nome e data de lancamento\n",
    "t1 = time.time()\n",
    "df_movies = df_movies.drop('_c1')\n",
    "tempo_exec = time.time() - t1\n",
    "execution_time_spk['remove_initial_column'] = tempo_exec\n",
    "print(execution_time_spk)"
   ]
  },
  {
   "cell_type": "code",
   "execution_count": 12,
   "metadata": {},
   "outputs": [
    {
     "name": "stdout",
     "output_type": "stream",
     "text": [
      "+---+--------------------+------------+\n",
      "|_c0|          Movie_Name|Release_Year|\n",
      "+---+--------------------+------------+\n",
      "|  1|     Dinosaur Planet|        2003|\n",
      "|  2|Isle of Man TT 20...|        2004|\n",
      "|  3|           Character|        1997|\n",
      "|  4|Paula Abdul's Get...|        1994|\n",
      "|  5|The Rise and Fall...|        2004|\n",
      "+---+--------------------+------------+\n",
      "only showing top 5 rows\n",
      "\n"
     ]
    }
   ],
   "source": [
    "# Visualização do banco de dados \n",
    "df_movies.show(5)"
   ]
  },
  {
   "cell_type": "code",
   "execution_count": 13,
   "metadata": {},
   "outputs": [
    {
     "name": "stdout",
     "output_type": "stream",
     "text": [
      "{'import_time_csv': 3.224440574645996, 'new_column_movie': 0.007007598876953125, 'new_column_release_year': 0.007005929946899414, 'remove_initial_column': 0.004002571105957031, 'rename_column_movie': 0.005005598068237305}\n"
     ]
    }
   ],
   "source": [
    "# Renomeação da coluna de ID do filme com a mesma nomenclatura da base de dados de avaliações.\n",
    "t1 = time.time()\n",
    "df_movies = df_movies.withColumnRenamed('_c0', 'Movie_Id')\n",
    "tempo_exec = time.time() - t1\n",
    "execution_time_spk['rename_column_movie'] = tempo_exec\n",
    "print(execution_time_spk)"
   ]
  },
  {
   "cell_type": "code",
   "execution_count": 14,
   "metadata": {},
   "outputs": [
    {
     "name": "stdout",
     "output_type": "stream",
     "text": [
      "root\n",
      " |-- Movie_Id: integer (nullable = true)\n",
      " |-- Movie_Name: string (nullable = true)\n",
      " |-- Release_Year: string (nullable = true)\n",
      "\n"
     ]
    }
   ],
   "source": [
    "# Informações sobre o dataframe do banco de dados de filmes.\n",
    "df_movies.printSchema()"
   ]
  },
  {
   "cell_type": "code",
   "execution_count": 15,
   "metadata": {},
   "outputs": [
    {
     "name": "stdout",
     "output_type": "stream",
     "text": [
      "{'import_time_csv': 3.224440574645996, 'new_column_movie': 0.007007598876953125, 'new_column_release_year': 0.007005929946899414, 'remove_initial_column': 0.004002571105957031, 'rename_column_movie': 0.005005598068237305, 'change_type_year': 0.009007692337036133}\n"
     ]
    }
   ],
   "source": [
    "# Realizando a modificando do tipo de dado da coluna com a data de lançamento.\n",
    "t1 = time.time()\n",
    "df_movies = df_movies.withColumn('Release_Year', to_date(df_movies['Release_Year']))\n",
    "tempo_exec = time.time() - t1\n",
    "execution_time_spk['change_type_year'] = tempo_exec\n",
    "print(execution_time_spk)"
   ]
  },
  {
   "cell_type": "code",
   "execution_count": 16,
   "metadata": {},
   "outputs": [
    {
     "name": "stdout",
     "output_type": "stream",
     "text": [
      "root\n",
      " |-- Movie_Id: integer (nullable = true)\n",
      " |-- Movie_Name: string (nullable = true)\n",
      " |-- Release_Year: date (nullable = true)\n",
      "\n"
     ]
    }
   ],
   "source": [
    "# Informações sobre o dataframe do banco de dados de filmes.\n",
    "df_movies.printSchema()"
   ]
  },
  {
   "cell_type": "code",
   "execution_count": 17,
   "metadata": {},
   "outputs": [
    {
     "name": "stdout",
     "output_type": "stream",
     "text": [
      "+--------+--------------------+------------+\n",
      "|Movie_Id|          Movie_Name|Release_Year|\n",
      "+--------+--------------------+------------+\n",
      "|       1|     Dinosaur Planet|  2003-01-01|\n",
      "|       2|Isle of Man TT 20...|  2004-01-01|\n",
      "|       3|           Character|  1997-01-01|\n",
      "|       4|Paula Abdul's Get...|  1994-01-01|\n",
      "|       5|The Rise and Fall...|  2004-01-01|\n",
      "+--------+--------------------+------------+\n",
      "only showing top 5 rows\n",
      "\n"
     ]
    }
   ],
   "source": [
    "# Visualização do dataframe com todas as alterações.\n",
    "df_movies.show(5)"
   ]
  },
  {
   "cell_type": "code",
   "execution_count": 18,
   "metadata": {},
   "outputs": [
    {
     "name": "stdout",
     "output_type": "stream",
     "text": [
      "Movie_Id\t0\n",
      "Movie_Name\t0\n",
      "Release_Year\t0\n",
      "{'import_time_csv': 3.224440574645996, 'new_column_movie': 0.007007598876953125, 'new_column_release_year': 0.007005929946899414, 'remove_initial_column': 0.004002571105957031, 'rename_column_movie': 0.005005598068237305, 'change_type_year': 0.009007692337036133, 'check_missing_data': 0.5204088687896729}\n"
     ]
    }
   ],
   "source": [
    "# Verificando se possui dados ausentes.\n",
    "t1 = time.time()\n",
    "null_count_col1 = df_movies.filter(df_movies.Movie_Id.isNull()).count()\n",
    "print(f'Movie_Id\\t{null_count_col1}')\n",
    "null_count_col2 = df_movies.filter(df_movies.Movie_Name.isNull()).count()\n",
    "print(f'Movie_Name\\t{null_count_col2}')\n",
    "null_count_col3 = df_movies.filter(df_movies.Release_Year.isNull()).count()\n",
    "print(f'Release_Year\\t{null_count_col3}')\n",
    "tempo_exec = time.time() - t1\n",
    "execution_time_spk['check_missing_data'] = tempo_exec\n",
    "print(execution_time_spk)"
   ]
  },
  {
   "cell_type": "code",
   "execution_count": 19,
   "metadata": {},
   "outputs": [
    {
     "name": "stdout",
     "output_type": "stream",
     "text": [
      "{'import_time_csv': 3.224440574645996, 'new_column_movie': 0.007007598876953125, 'new_column_release_year': 0.007005929946899414, 'remove_initial_column': 0.004002571105957031, 'rename_column_movie': 0.005005598068237305, 'change_type_year': 0.009007692337036133, 'check_missing_data': 0.5204088687896729, 'check_duplicate_lines': 0.4919419288635254}\n",
      "Linhas duplicadas: 0\n"
     ]
    }
   ],
   "source": [
    "# Verificando se possui linhas duplicadas na base de dados e removendo\n",
    "t1 = time.time()\n",
    "df_movies_without_duplicates = df_movies.dropDuplicates()\n",
    "duplicated_rows = df_movies.count() - df_movies_without_duplicates.count()\n",
    "tempo_exec = time.time() - t1\n",
    "execution_time_spk['check_duplicate_lines'] = tempo_exec\n",
    "print(execution_time_spk)\n",
    "print(f'Linhas duplicadas: {duplicated_rows}')"
   ]
  },
  {
   "cell_type": "code",
   "execution_count": 20,
   "metadata": {},
   "outputs": [
    {
     "name": "stdout",
     "output_type": "stream",
     "text": [
      "{'import_time_csv': 3.224440574645996, 'new_column_movie': 0.007007598876953125, 'new_column_release_year': 0.007005929946899414, 'remove_initial_column': 0.004002571105957031, 'rename_column_movie': 0.005005598068237305, 'change_type_year': 0.009007692337036133, 'check_missing_data': 0.5204088687896729, 'check_duplicate_lines': 0.4919419288635254, 'check_duplicate_lines_ids': 0.30828022956848145}\n",
      "IDs duplicados: 0\n"
     ]
    }
   ],
   "source": [
    "# Verificando se possui id's duplicados.\n",
    "t1 = time.time()\n",
    "df_without_duplitate_id = df_movies.dropDuplicates(subset=['Movie_Id'])\n",
    "count_df_without_duplitate_id = df_movies.count() - df_without_duplitate_id.count()\n",
    "tempo_exec = time.time() - t1\n",
    "execution_time_spk['check_duplicate_lines_ids'] = tempo_exec\n",
    "print(execution_time_spk)\n",
    "print(f'IDs duplicados: {count_df_without_duplitate_id}')"
   ]
  },
  {
   "cell_type": "code",
   "execution_count": 21,
   "metadata": {},
   "outputs": [
    {
     "name": "stdout",
     "output_type": "stream",
     "text": [
      "{'import_time_csv': 3.224440574645996, 'new_column_movie': 0.007007598876953125, 'new_column_release_year': 0.007005929946899414, 'remove_initial_column': 0.004002571105957031, 'rename_column_movie': 0.005005598068237305, 'change_type_year': 0.009007692337036133, 'check_missing_data': 0.5204088687896729, 'check_duplicate_lines': 0.4919419288635254, 'check_duplicate_lines_ids': 0.30828022956848145, 'check_duplicate_lines_movie_year': 0.018016338348388672}\n",
      "+----------+------------+-----+\n",
      "|Movie_Name|Release_Year|Count|\n",
      "+----------+------------+-----+\n",
      "| Dr. Quinn|  1993-01-01|    2|\n",
      "+----------+------------+-----+\n",
      "\n"
     ]
    }
   ],
   "source": [
    "# Verificando se possui filmes com mesmo nome e mesmo ano de lançamento.\n",
    "t1 = time.time()\n",
    "df_group = df_movies.groupBy(df_movies.Movie_Name, df_movies.Release_Year).agg(count('*').alias('Count'))\n",
    "df_duplicates = df_group.filter(df_group['Count'] > 1)\n",
    "tempo_exec = time.time() - t1\n",
    "execution_time_spk['check_duplicate_lines_movie_year'] = tempo_exec\n",
    "print(execution_time_spk)\n",
    "df_duplicates.show(5)"
   ]
  },
  {
   "cell_type": "code",
   "execution_count": 22,
   "metadata": {},
   "outputs": [
    {
     "name": "stdout",
     "output_type": "stream",
     "text": [
      "{'import_time_csv': 3.224440574645996, 'new_column_movie': 0.007007598876953125, 'new_column_release_year': 0.007005929946899414, 'remove_initial_column': 0.004002571105957031, 'rename_column_movie': 0.005005598068237305, 'change_type_year': 0.009007692337036133, 'check_missing_data': 0.5204088687896729, 'check_duplicate_lines': 0.4919419288635254, 'check_duplicate_lines_ids': 0.30828022956848145, 'check_duplicate_lines_movie_year': 0.018016338348388672, 'duplicate_line_dr_quinn': 0.02902698516845703}\n",
      "+----------+------------+-----+--------+----------+------------+\n",
      "|Movie_Name|Release_Year|Count|Movie_Id|Movie_Name|Release_Year|\n",
      "+----------+------------+-----+--------+----------+------------+\n",
      "| Dr. Quinn|  1993-01-01|    2|    4005| Dr. Quinn|  1993-01-01|\n",
      "| Dr. Quinn|  1993-01-01|    2|     350| Dr. Quinn|  1993-01-01|\n",
      "+----------+------------+-----+--------+----------+------------+\n",
      "\n"
     ]
    }
   ],
   "source": [
    "# Obtendo tabela com os registros do filme repetido\n",
    "t1 = time.time()\n",
    "df_duplicates_final = df_duplicates.join(df_movies, \\\n",
    "    on=((df_duplicates.Movie_Name == df_movies.Movie_Name) & \\\n",
    "        (df_duplicates.Release_Year == df_movies.Release_Year)))\n",
    "tempo_exec = time.time() - t1\n",
    "execution_time_spk['duplicate_line_dr_quinn'] = tempo_exec\n",
    "print(execution_time_spk)\n",
    "df_duplicates_final.show()"
   ]
  },
  {
   "cell_type": "markdown",
   "metadata": {},
   "source": [
    "Observação: Apesar de existir dois registros com o mesmo nome (Dr. Quinn) e mesmo ano de lançamento (1993), realizando uma busca na internet, foi verificado que no ano de 1993 foram lançados duas temporadas de Dr. Quinn. Dessa forma, os registros estão se referindo a temporadas diferentes, não sendo considerado um registro duplicado."
   ]
  },
  {
   "attachments": {},
   "cell_type": "markdown",
   "metadata": {},
   "source": [
    "#### Tratamento do banco de dados da base2 com as avaliações dos usuários"
   ]
  },
  {
   "cell_type": "code",
   "execution_count": 23,
   "metadata": {},
   "outputs": [],
   "source": [
    "# Criando dicionario para salvar tempos de execucao\n",
    "execution_time2_spk = {}"
   ]
  },
  {
   "cell_type": "code",
   "execution_count": 24,
   "metadata": {},
   "outputs": [
    {
     "name": "stdout",
     "output_type": "stream",
     "text": [
      "{'import_time_csv': 4.452035188674927}\n"
     ]
    }
   ],
   "source": [
    "# Importando a segunda base de dados\n",
    "t1 = time.time()\n",
    "df_customers_rating = spark.read.csv('customers_rating.csv', sep=';', header=True, inferSchema=True)\n",
    "tempo_exec = time.time() - t1\n",
    "execution_time2_spk['import_time_csv'] = tempo_exec\n",
    "print(execution_time2_spk)"
   ]
  },
  {
   "cell_type": "code",
   "execution_count": 25,
   "metadata": {},
   "outputs": [
    {
     "name": "stdout",
     "output_type": "stream",
     "text": [
      "+-------+------+-------------------+--------+\n",
      "|Cust_Id|Rating|               Date|Movie_Id|\n",
      "+-------+------+-------------------+--------+\n",
      "|1488844|   3.0|2005-09-06 00:00:00|       1|\n",
      "| 822109|   5.0|2005-05-13 00:00:00|       1|\n",
      "| 885013|   4.0|2005-10-19 00:00:00|       1|\n",
      "|  30878|   4.0|2005-12-26 00:00:00|       1|\n",
      "| 823519|   3.0|2004-05-03 00:00:00|       1|\n",
      "+-------+------+-------------------+--------+\n",
      "only showing top 5 rows\n",
      "\n"
     ]
    }
   ],
   "source": [
    "# Visualizacao do dataframe\n",
    "df_customers_rating.show(5)"
   ]
  },
  {
   "cell_type": "code",
   "execution_count": 26,
   "metadata": {},
   "outputs": [
    {
     "name": "stdout",
     "output_type": "stream",
     "text": [
      "Cust_Id\t0\n",
      "Rating\t0\n",
      "Date\t0\n",
      "Movie_Id\t0\n",
      "{'import_time_csv': 4.452035188674927, 'check_missing_data': 7.960012674331665}\n"
     ]
    }
   ],
   "source": [
    "# Verificando se possui dados ausentes.\n",
    "t1 = time.time()\n",
    "null_count_col1 = df_customers_rating.filter(df_customers_rating.Cust_Id.isNull()).count()\n",
    "print(f'Cust_Id\\t{null_count_col1}')\n",
    "null_count_col2 = df_customers_rating.filter(df_customers_rating.Rating.isNull()).count()\n",
    "print(f'Rating\\t{null_count_col2}')\n",
    "null_count_col3 = df_customers_rating.filter(df_customers_rating.Date.isNull()).count()\n",
    "print(f'Date\\t{null_count_col3}')\n",
    "null_count_col4 = df_customers_rating.filter(df_customers_rating.Movie_Id.isNull()).count()\n",
    "print(f'Movie_Id\\t{null_count_col4}')\n",
    "tempo_exec = time.time() - t1\n",
    "execution_time2_spk['check_missing_data'] = tempo_exec\n",
    "print(execution_time2_spk)"
   ]
  },
  {
   "cell_type": "code",
   "execution_count": 27,
   "metadata": {},
   "outputs": [
    {
     "name": "stdout",
     "output_type": "stream",
     "text": [
      "root\n",
      " |-- Cust_Id: integer (nullable = true)\n",
      " |-- Rating: double (nullable = true)\n",
      " |-- Date: timestamp (nullable = true)\n",
      " |-- Movie_Id: integer (nullable = true)\n",
      "\n"
     ]
    }
   ],
   "source": [
    "# Informações sobre o dataframe. \n",
    "df_customers_rating.printSchema()"
   ]
  },
  {
   "cell_type": "code",
   "execution_count": 28,
   "metadata": {},
   "outputs": [
    {
     "name": "stdout",
     "output_type": "stream",
     "text": [
      "{'import_time_csv': 4.452035188674927, 'check_missing_data': 7.960012674331665, 'change_type_date': 0.005509138107299805}\n"
     ]
    }
   ],
   "source": [
    "# Realizando a converteção da coluna de Date para datetime. Importante trabalhar com essa coluna no formato de data.\n",
    "t1 = time.time()\n",
    "df_customers_rating = df_customers_rating.withColumn('Date', to_date(df_customers_rating['Date']))\n",
    "tempo_exec = time.time() - t1\n",
    "execution_time2_spk['change_type_date'] = tempo_exec\n",
    "print(execution_time2_spk)"
   ]
  },
  {
   "cell_type": "code",
   "execution_count": 29,
   "metadata": {},
   "outputs": [
    {
     "name": "stdout",
     "output_type": "stream",
     "text": [
      "+-------+------+----------+--------+\n",
      "|Cust_Id|Rating|      Date|Movie_Id|\n",
      "+-------+------+----------+--------+\n",
      "|1488844|   3.0|2005-09-06|       1|\n",
      "| 822109|   5.0|2005-05-13|       1|\n",
      "| 885013|   4.0|2005-10-19|       1|\n",
      "|  30878|   4.0|2005-12-26|       1|\n",
      "| 823519|   3.0|2004-05-03|       1|\n",
      "+-------+------+----------+--------+\n",
      "only showing top 5 rows\n",
      "\n"
     ]
    }
   ],
   "source": [
    "# Visualizacao do dataframe\n",
    "df_customers_rating.show(5)"
   ]
  },
  {
   "cell_type": "code",
   "execution_count": 30,
   "metadata": {},
   "outputs": [
    {
     "name": "stdout",
     "output_type": "stream",
     "text": [
      "root\n",
      " |-- Cust_Id: integer (nullable = true)\n",
      " |-- Rating: double (nullable = true)\n",
      " |-- Date: date (nullable = true)\n",
      " |-- Movie_Id: integer (nullable = true)\n",
      "\n"
     ]
    }
   ],
   "source": [
    "# Confirmando a mudança da coluna Date para date\n",
    "df_customers_rating.printSchema()"
   ]
  },
  {
   "cell_type": "code",
   "execution_count": 31,
   "metadata": {},
   "outputs": [
    {
     "name": "stdout",
     "output_type": "stream",
     "text": [
      "{'import_time_csv': 3.224440574645996, 'new_column_movie': 0.007007598876953125, 'new_column_release_year': 0.007005929946899414, 'remove_initial_column': 0.004002571105957031, 'rename_column_movie': 0.005005598068237305, 'change_type_year': 0.009007692337036133, 'check_missing_data': 0.5204088687896729, 'check_duplicate_lines': 0.4919419288635254, 'check_duplicate_lines_ids': 0.30828022956848145, 'check_duplicate_lines_movie_year': 0.010524749755859375, 'duplicate_line_dr_quinn': 0.02902698516845703}\n",
      "+-------+--------+------+-----+\n",
      "|Cust_Id|Movie_Id|Rating|Count|\n",
      "+-------+--------+------+-----+\n",
      "+-------+--------+------+-----+\n",
      "\n"
     ]
    }
   ],
   "source": [
    "# Verificação se possui avaliações duplicadas de clientes, \n",
    "# considerando mesmo id do cliente, id do filme e avaliação\n",
    "t1 = time.time()\n",
    "df2_group = df_customers_rating.groupBy(df_customers_rating.Cust_Id, \\\n",
    "    df_customers_rating.Movie_Id, df_customers_rating.Rating).agg(count('*').alias('Count'))\n",
    "df2_duplicates = df2_group.filter(df2_group['Count'] > 1)\n",
    "tempo_exec = time.time() - t1\n",
    "execution_time2_spk['check_duplicate_lines_movie_year'] = tempo_exec\n",
    "print(execution_time2_spk)\n",
    "df2_duplicates.show(5)"
   ]
  },
  {
   "attachments": {},
   "cell_type": "markdown",
   "metadata": {},
   "source": [
    "### **Criando um novo dataframe com join do df_movies e df_customers_rating**"
   ]
  },
  {
   "cell_type": "code",
   "execution_count": 32,
   "metadata": {},
   "outputs": [
    {
     "name": "stdout",
     "output_type": "stream",
     "text": [
      "root\n",
      " |-- Cust_Id: integer (nullable = true)\n",
      " |-- Rating: double (nullable = true)\n",
      " |-- Date: date (nullable = true)\n",
      " |-- Movie_Id: integer (nullable = true)\n",
      "\n",
      "root\n",
      " |-- Movie_Id: integer (nullable = true)\n",
      " |-- Movie_Name: string (nullable = true)\n",
      " |-- Release_Year: date (nullable = true)\n",
      "\n"
     ]
    }
   ],
   "source": [
    "df_customers_rating.printSchema()\n",
    "df_movies.printSchema()"
   ]
  },
  {
   "cell_type": "code",
   "execution_count": 33,
   "metadata": {},
   "outputs": [
    {
     "name": "stdout",
     "output_type": "stream",
     "text": [
      "{'import_time_csv': 4.452035188674927, 'check_missing_data': 7.960012674331665, 'change_type_date': 0.005509138107299805, 'merge_tables': 0.006005287170410156}\n"
     ]
    }
   ],
   "source": [
    "# Como a análise será realizada apenas com os filmes que possuem avaliações de clientes, \n",
    "# será realizado um join considerando a interseção entre as tabelas.\n",
    "t1 = time.time()\n",
    "df_join_movies_rating = df_movies.join(df_customers_rating, \\\n",
    "    on=(df_movies.Movie_Id == df_customers_rating.Movie_Id), \\\n",
    "        how='inner').drop('Movie_Id')\n",
    "tempo_exec = time.time() - t1\n",
    "execution_time2_spk['merge_tables'] = tempo_exec\n",
    "print(execution_time2_spk)"
   ]
  },
  {
   "cell_type": "code",
   "execution_count": 34,
   "metadata": {},
   "outputs": [
    {
     "name": "stdout",
     "output_type": "stream",
     "text": [
      "+---------------+------------+-------+------+----------+\n",
      "|     Movie_Name|Release_Year|Cust_Id|Rating|      Date|\n",
      "+---------------+------------+-------+------+----------+\n",
      "|Dinosaur Planet|  2003-01-01|1488844|   3.0|2005-09-06|\n",
      "|Dinosaur Planet|  2003-01-01| 822109|   5.0|2005-05-13|\n",
      "|Dinosaur Planet|  2003-01-01| 885013|   4.0|2005-10-19|\n",
      "|Dinosaur Planet|  2003-01-01|  30878|   4.0|2005-12-26|\n",
      "|Dinosaur Planet|  2003-01-01| 823519|   3.0|2004-05-03|\n",
      "+---------------+------------+-------+------+----------+\n",
      "only showing top 5 rows\n",
      "\n"
     ]
    }
   ],
   "source": [
    "# Visualizacao do dataframe\n",
    "df_join_movies_rating.show(5)"
   ]
  },
  {
   "cell_type": "code",
   "execution_count": 35,
   "metadata": {},
   "outputs": [
    {
     "data": {
      "text/plain": [
       "24053764"
      ]
     },
     "execution_count": 35,
     "metadata": {},
     "output_type": "execute_result"
    }
   ],
   "source": [
    "# Quantidade de registros no dataframe\n",
    "df_join_movies_rating.count()"
   ]
  },
  {
   "cell_type": "code",
   "execution_count": 36,
   "metadata": {},
   "outputs": [
    {
     "data": {
      "text/plain": [
       "'\\n# Load dos dados (salvamento)\\n# Delta\\nt1 = time.time()\\ndf_join_movies_rating.write.format(\"delta\").mode(\"overwrite\").save(\\'./final_data.delta\\')\\ntempo_exec = time.time() - t1\\nexecution_time2_spk[\\'final_load_delta\\'] = tempo_exec\\nprint(execution_time2_spk)\\n'"
      ]
     },
     "execution_count": 36,
     "metadata": {},
     "output_type": "execute_result"
    }
   ],
   "source": [
    "\"\"\"\n",
    "# Load dos dados (salvamento)\n",
    "# Delta\n",
    "t1 = time.time()\n",
    "df_join_movies_rating.write.format(\"delta\").mode(\"overwrite\").save('./final_data.delta')\n",
    "tempo_exec = time.time() - t1\n",
    "execution_time2_spk['final_load_delta'] = tempo_exec\n",
    "print(execution_time2_spk)\n",
    "\"\"\""
   ]
  },
  {
   "cell_type": "code",
   "execution_count": 37,
   "metadata": {},
   "outputs": [
    {
     "data": {
      "text/plain": [
       "'\\n# Load dos dados (salvamento)\\n# parquet\\nt1 = time.time()\\ndf_join_movies_rating.write.format(\"parquet\").mode(\"overwrite\").save(\\'./final_data.parquet\\')\\ntempo_exec = time.time() - t1\\nexecution_time2_spk[\\'final_load_parquet\\'] = tempo_exec\\nprint(execution_time2_spk)\\n'"
      ]
     },
     "execution_count": 37,
     "metadata": {},
     "output_type": "execute_result"
    }
   ],
   "source": [
    "\"\"\"\n",
    "# Load dos dados (salvamento)\n",
    "# parquet\n",
    "t1 = time.time()\n",
    "df_join_movies_rating.write.format(\"parquet\").mode(\"overwrite\").save('./final_data.parquet')\n",
    "tempo_exec = time.time() - t1\n",
    "execution_time2_spk['final_load_parquet'] = tempo_exec\n",
    "print(execution_time2_spk)\n",
    "\"\"\""
   ]
  },
  {
   "cell_type": "code",
   "execution_count": 38,
   "metadata": {},
   "outputs": [
    {
     "data": {
      "text/plain": [
       "'\\n# Load dos dados (salvamento)\\n# csv\\nt1 = time.time()\\ndf_join_movies_rating.write.format(\"csv\").mode(\"overwrite\").save(\\'./final_data.csv\\')\\ntempo_exec = time.time() - t1\\nexecution_time2_spk[\\'final_load_csv\\'] = tempo_exec\\nprint(execution_time2_spk)\\n'"
      ]
     },
     "execution_count": 38,
     "metadata": {},
     "output_type": "execute_result"
    }
   ],
   "source": [
    "\"\"\"\n",
    "# Load dos dados (salvamento)\n",
    "# csv\n",
    "t1 = time.time()\n",
    "df_join_movies_rating.write.format(\"csv\").mode(\"overwrite\").save('./final_data.csv')\n",
    "tempo_exec = time.time() - t1\n",
    "execution_time2_spk['final_load_csv'] = tempo_exec\n",
    "print(execution_time2_spk)\n",
    "\"\"\""
   ]
  },
  {
   "cell_type": "code",
   "execution_count": 39,
   "metadata": {},
   "outputs": [],
   "source": [
    "# Salvar os dicionarios com os tempos de execucao para criar o grafico (formato json)\n",
    "import json\n",
    "\n",
    "with open('execution_time_spk.json', 'w') as f:\n",
    "    json.dump(execution_time_spk, f)\n",
    "\n",
    "with open('execution_time2_spk.json', 'w') as f:\n",
    "    json.dump(execution_time2_spk, f)"
   ]
  }
 ],
 "metadata": {
  "kernelspec": {
   "display_name": "Python 3",
   "language": "python",
   "name": "python3"
  },
  "language_info": {
   "codemirror_mode": {
    "name": "ipython",
    "version": 3
   },
   "file_extension": ".py",
   "mimetype": "text/x-python",
   "name": "python",
   "nbconvert_exporter": "python",
   "pygments_lexer": "ipython3",
   "version": "3.11.0"
  },
  "orig_nbformat": 4,
  "vscode": {
   "interpreter": {
    "hash": "7e653313aa5c54a0675bb7f68a7b7b01def7211ef5659725a8367c74650dfa89"
   }
  }
 },
 "nbformat": 4,
 "nbformat_minor": 2
}
