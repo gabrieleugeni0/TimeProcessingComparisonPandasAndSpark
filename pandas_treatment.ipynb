{
  "cells": [
    {
      "cell_type": "markdown",
      "metadata": {
        "id": "_xU_sJnL93Tf"
      },
      "source": [
        "## **Informações contidas na base de dados**\n",
        "\n",
        "**Base 1:**\n",
        "1. ID do filme\n",
        "2. título e ano de lançamento\n",
        "\n",
        "**Base 2:**\n",
        "1. Cust_Id: ID do customer que fez a avaliação\n",
        "2. Rating: avaliação (nota)\n",
        "3. Date: data da avaliação\n",
        "4. Movie_Id: ID do filme"
      ]
    },
    {
      "attachments": {},
      "cell_type": "markdown",
      "metadata": {
        "id": "rwCr-gqG_91v"
      },
      "source": [
        "### Código para tratamento dos bancos dados com Pandas"
      ]
    },
    {
      "cell_type": "markdown",
      "metadata": {
        "id": "YNL_fKRlfJv3"
      },
      "source": [
        "#### Tratamento do banco de dados da base1 com o nome dos filmes e id de identificação"
      ]
    },
    {
      "cell_type": "code",
      "execution_count": null,
      "metadata": {
        "id": "AaQN8IwoA8LQ"
      },
      "outputs": [],
      "source": [
        "# Importando a biblioteca Pandas\n",
        "import pandas as pd\n",
        "import time"
      ]
    },
    {
      "cell_type": "code",
      "execution_count": null,
      "metadata": {},
      "outputs": [],
      "source": [
        "# Dicionário para salvar o tempo de execução de cada processo\n",
        "execution_time = {}"
      ]
    },
    {
      "cell_type": "code",
      "execution_count": null,
      "metadata": {
        "id": "9RYR4zTY7xHF"
      },
      "outputs": [],
      "source": [
        "# Importando a base de dados dos filmes\n",
        "t1 = time.time()\n",
        "df_movies = pd.read_csv('movies.csv', sep=\";\", header=None)\n",
        "tempo_exec = time.time() - t1\n",
        "execution_time['import_time_csv'] = tempo_exec\n",
        "print(execution_time)"
      ]
    },
    {
      "cell_type": "code",
      "execution_count": null,
      "metadata": {
        "colab": {
          "base_uri": "https://localhost:8080/",
          "height": 206
        },
        "id": "OLFXtuEVBUO-",
        "outputId": "44e35ad5-eda5-4376-8e0c-c280a526d7f2"
      },
      "outputs": [],
      "source": [
        "# Visualizando a base de dados\n",
        "df_movies.head()"
      ]
    },
    {
      "cell_type": "code",
      "execution_count": null,
      "metadata": {
        "id": "EsbWZpWPL97p"
      },
      "outputs": [],
      "source": [
        "# Na segunda coluna do dataframe temos duas informações importantes, o nome do filme e o ano de lançamento.\n",
        "# Como as informações estão misturadas, é necessário a transformação do dataframe, criando uma coluna para cada dado.\n",
        "# Criação da coluna com o nome do filme:\n",
        "t1 = time.time()\n",
        "df_movies['Movie_Name'] = df_movies[1].str[1:-7]\n",
        "tempo_exec = time.time() - t1\n",
        "execution_time['new_column_movie'] = tempo_exec\n",
        "print(execution_time)"
      ]
    },
    {
      "cell_type": "code",
      "execution_count": null,
      "metadata": {
        "id": "csTXSqM9KjoQ"
      },
      "outputs": [],
      "source": [
        "# Criação da coluna com o ano de lançamento:\n",
        "t1 = time.time()\n",
        "df_movies['Release_Year'] = df_movies[1].str[-6:-1]\n",
        "tempo_exec = time.time() - t1\n",
        "execution_time['new_column_release_year'] = tempo_exec\n",
        "print(execution_time)"
      ]
    },
    {
      "cell_type": "code",
      "execution_count": null,
      "metadata": {
        "colab": {
          "base_uri": "https://localhost:8080/",
          "height": 206
        },
        "id": "lr7uQpLlMMun",
        "outputId": "b3d4067d-248d-485f-ed17-2465686cfc13"
      },
      "outputs": [],
      "source": [
        "# Visualização do dataframe com as novas colunas\n",
        "df_movies.head()"
      ]
    },
    {
      "cell_type": "code",
      "execution_count": null,
      "metadata": {
        "id": "Esl2zVzIMr6r"
      },
      "outputs": [],
      "source": [
        "# Exclusão da coluna inicial com nome e data de lançamento\n",
        "t1 = time.time()\n",
        "df_movies.drop(columns=1, inplace=True)\n",
        "tempo_exec = time.time() - t1\n",
        "execution_time['remove_initial_column'] = tempo_exec\n",
        "print(execution_time)"
      ]
    },
    {
      "cell_type": "code",
      "execution_count": null,
      "metadata": {
        "colab": {
          "base_uri": "https://localhost:8080/",
          "height": 206
        },
        "id": "4FKep8GrNCBw",
        "outputId": "cb9bcb8c-27d1-43b9-b0cc-29cc58a9a2fe"
      },
      "outputs": [],
      "source": [
        "# Visualização do banco de dados \n",
        "df_movies.head()"
      ]
    },
    {
      "cell_type": "code",
      "execution_count": null,
      "metadata": {
        "id": "B3ssoZerNDhP"
      },
      "outputs": [],
      "source": [
        "# Renomeação da coluna de ID do filme com a mesma nomenclatura da base de dados de avaliações.\n",
        "t1 = time.time()\n",
        "df_movies.rename(columns={0:'Movie_Id'}, inplace=True)\n",
        "tempo_exec = time.time() - t1\n",
        "execution_time['rename_column_movie'] = tempo_exec\n",
        "print(execution_time)"
      ]
    },
    {
      "cell_type": "code",
      "execution_count": null,
      "metadata": {
        "colab": {
          "base_uri": "https://localhost:8080/"
        },
        "id": "6snyNuubO5jC",
        "outputId": "dd863b82-fea9-47e4-f704-7a5fd930e53e"
      },
      "outputs": [],
      "source": [
        "# Informações sobre o dataframe do banco de dados de filmes.\n",
        "df_movies.info()"
      ]
    },
    {
      "cell_type": "code",
      "execution_count": null,
      "metadata": {
        "id": "lfcFmjDos-vn"
      },
      "outputs": [],
      "source": [
        "# A coluna referente ao ano de lançamento dos filmes, está no formato de string, \n",
        "# vamos realizar a modificação para tratar esse valor como inteiro.\n",
        "# Realizando a modificando do tipo de dado da coluna com a data de lançamento.\n",
        "t1 = time.time()\n",
        "df_movies['Release_Year'] = pd.DatetimeIndex(df_movies['Release_Year']).year\n",
        "tempo_exec = time.time() - t1\n",
        "execution_time['change_type_year'] = tempo_exec\n",
        "print(execution_time)"
      ]
    },
    {
      "cell_type": "code",
      "execution_count": null,
      "metadata": {
        "colab": {
          "base_uri": "https://localhost:8080/"
        },
        "id": "pDYEsM53uKDx",
        "outputId": "4f8f715e-6111-4166-d12a-5a1c0d0b6c4a"
      },
      "outputs": [],
      "source": [
        "# Informações do dataframe com os nomes das colunas e seu respectivo tipo, conforme as alterações realizadas.\n",
        "df_movies.info()"
      ]
    },
    {
      "cell_type": "code",
      "execution_count": null,
      "metadata": {
        "colab": {
          "base_uri": "https://localhost:8080/",
          "height": 206
        },
        "id": "WcNnt5ayuM0A",
        "outputId": "9adb0b93-b765-4e21-c8b7-81ac2d49e042"
      },
      "outputs": [],
      "source": [
        "# Visualização do dataframe com todas as alterações.\n",
        "df_movies.head()"
      ]
    },
    {
      "cell_type": "code",
      "execution_count": null,
      "metadata": {
        "colab": {
          "base_uri": "https://localhost:8080/"
        },
        "id": "tkNTKu01x_jY",
        "outputId": "01d09ddc-70c0-41c8-a84f-b968fd5424e1"
      },
      "outputs": [],
      "source": [
        "# Verificando se possui dados ausentes.\n",
        "t1 = time.time()\n",
        "print(df_movies.isnull().sum())\n",
        "tempo_exec = time.time() - t1\n",
        "execution_time['check_missing_data'] = tempo_exec\n",
        "print(execution_time)"
      ]
    },
    {
      "cell_type": "code",
      "execution_count": null,
      "metadata": {
        "colab": {
          "base_uri": "https://localhost:8080/"
        },
        "id": "lcKWzS4N6km0",
        "outputId": "fcdff759-9647-4141-b14d-9851f4a9d931"
      },
      "outputs": [],
      "source": [
        "# Verificando se possui linhas duplicadas na base de dados.\n",
        "t1 = time.time()\n",
        "df_movies.duplicated().sum()\n",
        "tempo_exec = time.time() - t1\n",
        "execution_time['check_duplicate_lines'] = tempo_exec\n",
        "print(execution_time)"
      ]
    },
    {
      "cell_type": "code",
      "execution_count": null,
      "metadata": {
        "colab": {
          "base_uri": "https://localhost:8080/",
          "height": 49
        },
        "id": "exZGjB4tIjyj",
        "outputId": "1aa042ba-770f-4c37-a3ba-8e742c9c49f9"
      },
      "outputs": [],
      "source": [
        "# Verificando se possui id's duplicados.\n",
        "t1 = time.time()\n",
        "duplicado_id = (df_movies.duplicated(subset=['Movie_Id']))\n",
        "tempo_exec = time.time() - t1\n",
        "execution_time['check_duplicate_lines_ids'] = tempo_exec\n",
        "print(execution_time)\n",
        "df_movies[duplicado_id].head()"
      ]
    },
    {
      "cell_type": "code",
      "execution_count": null,
      "metadata": {
        "id": "0aL-bEpN8Eec"
      },
      "outputs": [],
      "source": [
        "# Verificando se possui filmes com mesmo nome e mesmo ano de lançamento.\n",
        "t1 = time.time()\n",
        "duplicate_name_year = (df_movies.duplicated(subset=['Movie_Name', 'Release_Year']))\n",
        "tempo_exec = time.time() - t1\n",
        "execution_time['check_duplicate_lines_movie_year'] = tempo_exec\n",
        "print(execution_time)"
      ]
    },
    {
      "cell_type": "code",
      "execution_count": null,
      "metadata": {
        "colab": {
          "base_uri": "https://localhost:8080/",
          "height": 81
        },
        "id": "aPlQEtBqAv1y",
        "outputId": "943ea5a0-ead3-4d81-e309-884169759864"
      },
      "outputs": [],
      "source": [
        "df_movies[duplicate_name_year].head()"
      ]
    },
    {
      "cell_type": "code",
      "execution_count": null,
      "metadata": {
        "id": "eBTwdipHCMIV"
      },
      "outputs": [],
      "source": [
        "t1 = time.time()\n",
        "filter_movie_duplicate = (df_movies['Movie_Name']=='Dr. Quinn')\n",
        "tempo_exec = time.time() - t1\n",
        "execution_time['duplicate_line_dr_quinn'] = tempo_exec\n",
        "print(execution_time)"
      ]
    },
    {
      "cell_type": "code",
      "execution_count": null,
      "metadata": {
        "colab": {
          "base_uri": "https://localhost:8080/",
          "height": 143
        },
        "id": "mpcbpZoVCadQ",
        "outputId": "f387c3db-f303-49d5-c406-2caf4b15ed40"
      },
      "outputs": [],
      "source": [
        "# Temos dois filmes do Dr. Quinn com ID_Filme diferente, porém, com mesmo nome e mesmo ano de lançamento.\n",
        "df_movies[filter_movie_duplicate].head()"
      ]
    },
    {
      "cell_type": "markdown",
      "metadata": {},
      "source": [
        "Observação: Apesar de existir dois registros com o mesmo nome (Dr. Quinn) e mesmo ano de lançamento (1993), realizando uma busca na internet, foi verificado que no ano de 1993 foram lançados duas temporadas de Dr. Quinn. Dessa forma, os registros estão se referindo a temporadas diferentes, não sendo considerado um registro duplicado."
      ]
    },
    {
      "cell_type": "markdown",
      "metadata": {
        "id": "wKw7j077vDLe"
      },
      "source": [
        "#### Tratamento do banco de dados da base2 com as avaliações dos usuários"
      ]
    },
    {
      "cell_type": "code",
      "execution_count": null,
      "metadata": {},
      "outputs": [],
      "source": [
        "execution_time2={}"
      ]
    },
    {
      "cell_type": "code",
      "execution_count": null,
      "metadata": {
        "id": "X-RiUhN4uYdI"
      },
      "outputs": [],
      "source": [
        "# Importando a base de dados.\n",
        "t1 = time.time()\n",
        "df_customers_rating = pd.read_csv('customers_rating.csv', sep=';')\n",
        "tempo_exec = time.time() - t1\n",
        "execution_time2['import_time_csv'] = tempo_exec\n",
        "print(execution_time2)"
      ]
    },
    {
      "cell_type": "code",
      "execution_count": null,
      "metadata": {
        "colab": {
          "base_uri": "https://localhost:8080/",
          "height": 206
        },
        "id": "bcWvk8rnvemb",
        "outputId": "ca9dbbb6-1a0d-46d7-f849-b87611fed297"
      },
      "outputs": [],
      "source": [
        "# Visualização do dataframe.\n",
        "df_customers_rating.head()"
      ]
    },
    {
      "cell_type": "code",
      "execution_count": null,
      "metadata": {
        "colab": {
          "base_uri": "https://localhost:8080/"
        },
        "id": "3BpOH2boxuUw",
        "outputId": "b4e3b071-547f-43ae-f6fa-430dbd458952"
      },
      "outputs": [],
      "source": [
        "# Verificando se possui dados ausentes.\n",
        "t1 = time.time()\n",
        "print(df_customers_rating.isnull().sum())\n",
        "tempo_exec = time.time() - t1\n",
        "execution_time2['check_missing_data'] = tempo_exec\n",
        "print(execution_time2)"
      ]
    },
    {
      "cell_type": "code",
      "execution_count": null,
      "metadata": {
        "colab": {
          "base_uri": "https://localhost:8080/"
        },
        "id": "nOSt5M5Q3vEm",
        "outputId": "22150362-cf22-43f3-dd57-87a59bf30c61"
      },
      "outputs": [],
      "source": [
        "# Informações sobre o dataframe. \n",
        "df_customers_rating.info()"
      ]
    },
    {
      "cell_type": "code",
      "execution_count": null,
      "metadata": {
        "id": "JVHKs0o54etQ"
      },
      "outputs": [],
      "source": [
        "# Realizando a converteção da coluna de Date para datetime. Importante trabalhar com essa coluna no formato de data.\n",
        "t1 = time.time()\n",
        "df_customers_rating['Date'] = pd.to_datetime(df_customers_rating['Date'], format='%Y-%m-%d')\n",
        "tempo_exec = time.time() - t1\n",
        "execution_time2['change_type_date'] = tempo_exec\n",
        "print(execution_time2)"
      ]
    },
    {
      "cell_type": "code",
      "execution_count": null,
      "metadata": {
        "id": "YZeTnlct40VA"
      },
      "outputs": [],
      "source": [
        "df_customers_rating.head()"
      ]
    },
    {
      "cell_type": "code",
      "execution_count": null,
      "metadata": {
        "id": "xT1QFZJT6Gug"
      },
      "outputs": [],
      "source": [
        "# Confirmando a mudança da coluna Date para datetime.\n",
        "df_customers_rating.info()"
      ]
    },
    {
      "cell_type": "code",
      "execution_count": null,
      "metadata": {
        "id": "eWqBshgKGs9F"
      },
      "outputs": [],
      "source": [
        "# Verificação se possui avaliações duplicadas de clientes, considerando mesmo id do cliente, id do filme e avaliação.\n",
        "t1 = time.time()\n",
        "duplicadas_clientes = (df_customers_rating.duplicated(subset=['Cust_Id', 'Movie_Id', 'Rating']))\n",
        "tempo_exec = time.time() - t1\n",
        "execution_time2['rating_duplicate_line'] = tempo_exec\n",
        "print(execution_time2)"
      ]
    },
    {
      "cell_type": "code",
      "execution_count": null,
      "metadata": {},
      "outputs": [],
      "source": [
        "df_customers_rating[duplicadas_clientes].head()"
      ]
    },
    {
      "cell_type": "markdown",
      "metadata": {
        "id": "qwX-8TYiJ1Hd"
      },
      "source": [
        "### **Criando um novo dataframe com join do df_movies e df_customers_rating**"
      ]
    },
    {
      "cell_type": "code",
      "execution_count": null,
      "metadata": {
        "id": "BlQkDdjcJ0v5"
      },
      "outputs": [],
      "source": [
        "# Como a análise será realizada apenas com os filmes que possuem avaliações de clientes, \n",
        "# será realizado um join considerando a interseção entre as tabelas.\n",
        "t1 = time.time()\n",
        "df_join_movies_rating = pd.merge(df_movies, df_customers_rating, how='inner', on='Movie_Id')\n",
        "tempo_exec = time.time() - t1\n",
        "execution_time2['merge_tables'] = tempo_exec\n",
        "print(execution_time2)"
      ]
    },
    {
      "cell_type": "code",
      "execution_count": null,
      "metadata": {},
      "outputs": [],
      "source": [
        "df_join_movies_rating.head()"
      ]
    },
    {
      "cell_type": "code",
      "execution_count": null,
      "metadata": {},
      "outputs": [],
      "source": [
        "# Quantidade de registros no dataframe\n",
        "df_join_movies_rating.shape[0]"
      ]
    },
    {
      "cell_type": "code",
      "execution_count": null,
      "metadata": {},
      "outputs": [],
      "source": [
        "# Load dos dados (salvamento)\n",
        "# Delta\n",
        "import pyarrow as pa\n",
        "t1 = time.time()\n",
        "df_join_movies_rating.to_parquet('./final_data.delta', engine='fastparquet', index=False)\n",
        "tempo_exec = time.time() - t1\n",
        "execution_time2['final_load_delta'] = tempo_exec\n",
        "print(execution_time2)"
      ]
    },
    {
      "cell_type": "code",
      "execution_count": null,
      "metadata": {},
      "outputs": [],
      "source": [
        "# Load dos dados (salvamento)\n",
        "# parquet\n",
        "t1 = time.time()\n",
        "df_join_movies_rating.to_parquet('./final_data.parquet', compression='gzip')\n",
        "tempo_exec = time.time() - t1\n",
        "execution_time2['final_load_parquet'] = tempo_exec\n",
        "print(execution_time2)"
      ]
    },
    {
      "cell_type": "code",
      "execution_count": null,
      "metadata": {},
      "outputs": [],
      "source": [
        "# Load dos dados (salvamento)\n",
        "# csv\n",
        "t1 = time.time()\n",
        "df_join_movies_rating.to_csv('./final_data.csv', index=False)\n",
        "tempo_exec = time.time() - t1\n",
        "execution_time2['final_load_csv'] = tempo_exec\n",
        "print(execution_time2)"
      ]
    },
    {
      "cell_type": "code",
      "execution_count": null,
      "metadata": {},
      "outputs": [],
      "source": []
    }
  ],
  "metadata": {
    "colab": {
      "provenance": []
    },
    "kernelspec": {
      "display_name": "Python 3",
      "language": "python",
      "name": "python3"
    },
    "language_info": {
      "codemirror_mode": {
        "name": "ipython",
        "version": 3
      },
      "file_extension": ".py",
      "mimetype": "text/x-python",
      "name": "python",
      "nbconvert_exporter": "python",
      "pygments_lexer": "ipython3",
      "version": "3.11.0"
    },
    "vscode": {
      "interpreter": {
        "hash": "7e653313aa5c54a0675bb7f68a7b7b01def7211ef5659725a8367c74650dfa89"
      }
    }
  },
  "nbformat": 4,
  "nbformat_minor": 0
}
