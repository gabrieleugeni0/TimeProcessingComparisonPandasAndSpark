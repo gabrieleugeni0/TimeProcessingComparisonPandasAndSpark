{
  "cells": [
    {
      "cell_type": "markdown",
      "metadata": {
        "id": "_xU_sJnL93Tf"
      },
      "source": [
        "## **Informações contidas na base de dados**\n",
        "\n",
        "**Base 1:**\n",
        "1. ID do filme\n",
        "2. título e ano de lançamento\n",
        "\n",
        "**Base 2:**\n",
        "1. Cust_Id: ID do customer que fez a avaliação\n",
        "2. Rating: avaliação (nota)\n",
        "3. Date: data da avaliação\n",
        "4. Movie_Id: ID do filme"
      ]
    },
    {
      "attachments": {},
      "cell_type": "markdown",
      "metadata": {
        "id": "rwCr-gqG_91v"
      },
      "source": [
        "### Código para tratamento dos bancos dados com Pandas"
      ]
    },
    {
      "cell_type": "markdown",
      "metadata": {
        "id": "YNL_fKRlfJv3"
      },
      "source": [
        "#### Tratamento do banco de dados da base1 com o nome dos filmes e id de identificação"
      ]
    },
    {
      "cell_type": "code",
      "execution_count": 1,
      "metadata": {
        "id": "AaQN8IwoA8LQ"
      },
      "outputs": [],
      "source": [
        "# Importando a biblioteca Pandas\n",
        "import pandas as pd\n",
        "import time"
      ]
    },
    {
      "cell_type": "code",
      "execution_count": 2,
      "metadata": {},
      "outputs": [],
      "source": [
        "# Dicionário para salvar o tempo de execução de cada processo\n",
        "execution_time = {}"
      ]
    },
    {
      "cell_type": "code",
      "execution_count": 3,
      "metadata": {
        "id": "9RYR4zTY7xHF"
      },
      "outputs": [
        {
          "name": "stdout",
          "output_type": "stream",
          "text": [
            "{'import_time_csv': 0.013010978698730469}\n"
          ]
        }
      ],
      "source": [
        "# Importando a base de dados dos filmes\n",
        "t1 = time.time()\n",
        "df_movies = pd.read_csv('movies.csv', sep=\";\", header=None)\n",
        "tempo_exec = time.time() - t1\n",
        "execution_time['import_time_csv'] = tempo_exec\n",
        "print(execution_time)"
      ]
    },
    {
      "cell_type": "code",
      "execution_count": 4,
      "metadata": {
        "colab": {
          "base_uri": "https://localhost:8080/",
          "height": 206
        },
        "id": "OLFXtuEVBUO-",
        "outputId": "44e35ad5-eda5-4376-8e0c-c280a526d7f2"
      },
      "outputs": [
        {
          "data": {
            "text/html": [
              "<div>\n",
              "<style scoped>\n",
              "    .dataframe tbody tr th:only-of-type {\n",
              "        vertical-align: middle;\n",
              "    }\n",
              "\n",
              "    .dataframe tbody tr th {\n",
              "        vertical-align: top;\n",
              "    }\n",
              "\n",
              "    .dataframe thead th {\n",
              "        text-align: right;\n",
              "    }\n",
              "</style>\n",
              "<table border=\"1\" class=\"dataframe\">\n",
              "  <thead>\n",
              "    <tr style=\"text-align: right;\">\n",
              "      <th></th>\n",
              "      <th>0</th>\n",
              "      <th>1</th>\n",
              "    </tr>\n",
              "  </thead>\n",
              "  <tbody>\n",
              "    <tr>\n",
              "      <th>0</th>\n",
              "      <td>1</td>\n",
              "      <td>(Dinosaur Planet, 2003)</td>\n",
              "    </tr>\n",
              "    <tr>\n",
              "      <th>1</th>\n",
              "      <td>2</td>\n",
              "      <td>(Isle of Man TT 2004 Review, 2004)</td>\n",
              "    </tr>\n",
              "    <tr>\n",
              "      <th>2</th>\n",
              "      <td>3</td>\n",
              "      <td>(Character, 1997)</td>\n",
              "    </tr>\n",
              "    <tr>\n",
              "      <th>3</th>\n",
              "      <td>4</td>\n",
              "      <td>(Paula Abdul's Get Up &amp; Dance, 1994)</td>\n",
              "    </tr>\n",
              "    <tr>\n",
              "      <th>4</th>\n",
              "      <td>5</td>\n",
              "      <td>(The Rise and Fall of ECW, 2004)</td>\n",
              "    </tr>\n",
              "  </tbody>\n",
              "</table>\n",
              "</div>"
            ],
            "text/plain": [
              "   0                                     1\n",
              "0  1               (Dinosaur Planet, 2003)\n",
              "1  2    (Isle of Man TT 2004 Review, 2004)\n",
              "2  3                     (Character, 1997)\n",
              "3  4  (Paula Abdul's Get Up & Dance, 1994)\n",
              "4  5      (The Rise and Fall of ECW, 2004)"
            ]
          },
          "execution_count": 4,
          "metadata": {},
          "output_type": "execute_result"
        }
      ],
      "source": [
        "# Visualizando a base de dados\n",
        "df_movies.head()"
      ]
    },
    {
      "cell_type": "code",
      "execution_count": 5,
      "metadata": {
        "id": "EsbWZpWPL97p"
      },
      "outputs": [
        {
          "name": "stdout",
          "output_type": "stream",
          "text": [
            "{'import_time_csv': 0.013010978698730469, 'new_column_movie': 0.0020024776458740234}\n"
          ]
        }
      ],
      "source": [
        "# Na segunda coluna do dataframe temos duas informações importantes, o nome do filme e o ano de lançamento.\n",
        "# Como as informações estão misturadas, é necessário a transformação do dataframe, criando uma coluna para cada dado.\n",
        "# Criação da coluna com o nome do filme:\n",
        "t1 = time.time()\n",
        "df_movies['Movie_Name'] = df_movies[1].str[1:-7]\n",
        "tempo_exec = time.time() - t1\n",
        "execution_time['new_column_movie'] = tempo_exec\n",
        "print(execution_time)"
      ]
    },
    {
      "cell_type": "code",
      "execution_count": 6,
      "metadata": {
        "id": "csTXSqM9KjoQ"
      },
      "outputs": [
        {
          "name": "stdout",
          "output_type": "stream",
          "text": [
            "{'import_time_csv': 0.013010978698730469, 'new_column_movie': 0.0020024776458740234, 'new_column_release_year': 0.0010006427764892578}\n"
          ]
        }
      ],
      "source": [
        "# Criação da coluna com o ano de lançamento:\n",
        "t1 = time.time()\n",
        "df_movies['Release_Year'] = df_movies[1].str[-6:-1]\n",
        "tempo_exec = time.time() - t1\n",
        "execution_time['new_column_release_year'] = tempo_exec\n",
        "print(execution_time)"
      ]
    },
    {
      "cell_type": "code",
      "execution_count": 7,
      "metadata": {
        "colab": {
          "base_uri": "https://localhost:8080/",
          "height": 206
        },
        "id": "lr7uQpLlMMun",
        "outputId": "b3d4067d-248d-485f-ed17-2465686cfc13"
      },
      "outputs": [
        {
          "data": {
            "text/html": [
              "<div>\n",
              "<style scoped>\n",
              "    .dataframe tbody tr th:only-of-type {\n",
              "        vertical-align: middle;\n",
              "    }\n",
              "\n",
              "    .dataframe tbody tr th {\n",
              "        vertical-align: top;\n",
              "    }\n",
              "\n",
              "    .dataframe thead th {\n",
              "        text-align: right;\n",
              "    }\n",
              "</style>\n",
              "<table border=\"1\" class=\"dataframe\">\n",
              "  <thead>\n",
              "    <tr style=\"text-align: right;\">\n",
              "      <th></th>\n",
              "      <th>0</th>\n",
              "      <th>1</th>\n",
              "      <th>Movie_Name</th>\n",
              "      <th>Release_Year</th>\n",
              "    </tr>\n",
              "  </thead>\n",
              "  <tbody>\n",
              "    <tr>\n",
              "      <th>0</th>\n",
              "      <td>1</td>\n",
              "      <td>(Dinosaur Planet, 2003)</td>\n",
              "      <td>Dinosaur Planet</td>\n",
              "      <td>2003</td>\n",
              "    </tr>\n",
              "    <tr>\n",
              "      <th>1</th>\n",
              "      <td>2</td>\n",
              "      <td>(Isle of Man TT 2004 Review, 2004)</td>\n",
              "      <td>Isle of Man TT 2004 Review</td>\n",
              "      <td>2004</td>\n",
              "    </tr>\n",
              "    <tr>\n",
              "      <th>2</th>\n",
              "      <td>3</td>\n",
              "      <td>(Character, 1997)</td>\n",
              "      <td>Character</td>\n",
              "      <td>1997</td>\n",
              "    </tr>\n",
              "    <tr>\n",
              "      <th>3</th>\n",
              "      <td>4</td>\n",
              "      <td>(Paula Abdul's Get Up &amp; Dance, 1994)</td>\n",
              "      <td>Paula Abdul's Get Up &amp; Dance</td>\n",
              "      <td>1994</td>\n",
              "    </tr>\n",
              "    <tr>\n",
              "      <th>4</th>\n",
              "      <td>5</td>\n",
              "      <td>(The Rise and Fall of ECW, 2004)</td>\n",
              "      <td>The Rise and Fall of ECW</td>\n",
              "      <td>2004</td>\n",
              "    </tr>\n",
              "  </tbody>\n",
              "</table>\n",
              "</div>"
            ],
            "text/plain": [
              "   0                                     1                    Movie_Name  \\\n",
              "0  1               (Dinosaur Planet, 2003)               Dinosaur Planet   \n",
              "1  2    (Isle of Man TT 2004 Review, 2004)    Isle of Man TT 2004 Review   \n",
              "2  3                     (Character, 1997)                     Character   \n",
              "3  4  (Paula Abdul's Get Up & Dance, 1994)  Paula Abdul's Get Up & Dance   \n",
              "4  5      (The Rise and Fall of ECW, 2004)      The Rise and Fall of ECW   \n",
              "\n",
              "  Release_Year  \n",
              "0         2003  \n",
              "1         2004  \n",
              "2         1997  \n",
              "3         1994  \n",
              "4         2004  "
            ]
          },
          "execution_count": 7,
          "metadata": {},
          "output_type": "execute_result"
        }
      ],
      "source": [
        "# Visualização do dataframe com as novas colunas\n",
        "df_movies.head()"
      ]
    },
    {
      "cell_type": "code",
      "execution_count": 8,
      "metadata": {
        "id": "Esl2zVzIMr6r"
      },
      "outputs": [
        {
          "name": "stdout",
          "output_type": "stream",
          "text": [
            "{'import_time_csv': 0.013010978698730469, 'new_column_movie': 0.0020024776458740234, 'new_column_release_year': 0.0010006427764892578, 'remove_initial_column': 0.002001523971557617}\n"
          ]
        }
      ],
      "source": [
        "# Exclusão da coluna inicial com nome e data de lançamento\n",
        "t1 = time.time()\n",
        "df_movies.drop(columns=1, inplace=True)\n",
        "tempo_exec = time.time() - t1\n",
        "execution_time['remove_initial_column'] = tempo_exec\n",
        "print(execution_time)"
      ]
    },
    {
      "cell_type": "code",
      "execution_count": 9,
      "metadata": {
        "colab": {
          "base_uri": "https://localhost:8080/",
          "height": 206
        },
        "id": "4FKep8GrNCBw",
        "outputId": "cb9bcb8c-27d1-43b9-b0cc-29cc58a9a2fe"
      },
      "outputs": [
        {
          "data": {
            "text/html": [
              "<div>\n",
              "<style scoped>\n",
              "    .dataframe tbody tr th:only-of-type {\n",
              "        vertical-align: middle;\n",
              "    }\n",
              "\n",
              "    .dataframe tbody tr th {\n",
              "        vertical-align: top;\n",
              "    }\n",
              "\n",
              "    .dataframe thead th {\n",
              "        text-align: right;\n",
              "    }\n",
              "</style>\n",
              "<table border=\"1\" class=\"dataframe\">\n",
              "  <thead>\n",
              "    <tr style=\"text-align: right;\">\n",
              "      <th></th>\n",
              "      <th>0</th>\n",
              "      <th>Movie_Name</th>\n",
              "      <th>Release_Year</th>\n",
              "    </tr>\n",
              "  </thead>\n",
              "  <tbody>\n",
              "    <tr>\n",
              "      <th>0</th>\n",
              "      <td>1</td>\n",
              "      <td>Dinosaur Planet</td>\n",
              "      <td>2003</td>\n",
              "    </tr>\n",
              "    <tr>\n",
              "      <th>1</th>\n",
              "      <td>2</td>\n",
              "      <td>Isle of Man TT 2004 Review</td>\n",
              "      <td>2004</td>\n",
              "    </tr>\n",
              "    <tr>\n",
              "      <th>2</th>\n",
              "      <td>3</td>\n",
              "      <td>Character</td>\n",
              "      <td>1997</td>\n",
              "    </tr>\n",
              "    <tr>\n",
              "      <th>3</th>\n",
              "      <td>4</td>\n",
              "      <td>Paula Abdul's Get Up &amp; Dance</td>\n",
              "      <td>1994</td>\n",
              "    </tr>\n",
              "    <tr>\n",
              "      <th>4</th>\n",
              "      <td>5</td>\n",
              "      <td>The Rise and Fall of ECW</td>\n",
              "      <td>2004</td>\n",
              "    </tr>\n",
              "  </tbody>\n",
              "</table>\n",
              "</div>"
            ],
            "text/plain": [
              "   0                    Movie_Name Release_Year\n",
              "0  1               Dinosaur Planet         2003\n",
              "1  2    Isle of Man TT 2004 Review         2004\n",
              "2  3                     Character         1997\n",
              "3  4  Paula Abdul's Get Up & Dance         1994\n",
              "4  5      The Rise and Fall of ECW         2004"
            ]
          },
          "execution_count": 9,
          "metadata": {},
          "output_type": "execute_result"
        }
      ],
      "source": [
        "# Visualização do banco de dados \n",
        "df_movies.head()"
      ]
    },
    {
      "cell_type": "code",
      "execution_count": 10,
      "metadata": {
        "id": "B3ssoZerNDhP"
      },
      "outputs": [
        {
          "name": "stdout",
          "output_type": "stream",
          "text": [
            "{'import_time_csv': 0.013010978698730469, 'new_column_movie': 0.0020024776458740234, 'new_column_release_year': 0.0010006427764892578, 'remove_initial_column': 0.002001523971557617, 'rename_column_movie': 0.0}\n"
          ]
        }
      ],
      "source": [
        "# Renomeação da coluna de ID do filme com a mesma nomenclatura da base de dados de avaliações.\n",
        "t1 = time.time()\n",
        "df_movies.rename(columns={0:'Movie_Id'}, inplace=True)\n",
        "tempo_exec = time.time() - t1\n",
        "execution_time['rename_column_movie'] = tempo_exec\n",
        "print(execution_time)"
      ]
    },
    {
      "cell_type": "code",
      "execution_count": 11,
      "metadata": {
        "colab": {
          "base_uri": "https://localhost:8080/"
        },
        "id": "6snyNuubO5jC",
        "outputId": "dd863b82-fea9-47e4-f704-7a5fd930e53e"
      },
      "outputs": [
        {
          "name": "stdout",
          "output_type": "stream",
          "text": [
            "<class 'pandas.core.frame.DataFrame'>\n",
            "RangeIndex: 4499 entries, 0 to 4498\n",
            "Data columns (total 3 columns):\n",
            " #   Column        Non-Null Count  Dtype \n",
            "---  ------        --------------  ----- \n",
            " 0   Movie_Id      4499 non-null   int64 \n",
            " 1   Movie_Name    4499 non-null   object\n",
            " 2   Release_Year  4499 non-null   object\n",
            "dtypes: int64(1), object(2)\n",
            "memory usage: 105.6+ KB\n"
          ]
        }
      ],
      "source": [
        "# Informações sobre o dataframe do banco de dados de filmes.\n",
        "df_movies.info()"
      ]
    },
    {
      "cell_type": "code",
      "execution_count": 12,
      "metadata": {
        "id": "lfcFmjDos-vn"
      },
      "outputs": [
        {
          "name": "stdout",
          "output_type": "stream",
          "text": [
            "{'import_time_csv': 0.013010978698730469, 'new_column_movie': 0.0020024776458740234, 'new_column_release_year': 0.0010006427764892578, 'remove_initial_column': 0.002001523971557617, 'rename_column_movie': 0.0, 'change_type_year': 0.003002643585205078}\n"
          ]
        }
      ],
      "source": [
        "# A coluna referente ao ano de lançamento dos filmes, está no formato de string, \n",
        "# vamos realizar a modificação para tratar esse valor como inteiro.\n",
        "# Realizando a modificando do tipo de dado da coluna com a data de lançamento.\n",
        "t1 = time.time()\n",
        "df_movies['Release_Year'] = pd.DatetimeIndex(df_movies['Release_Year']).year\n",
        "tempo_exec = time.time() - t1\n",
        "execution_time['change_type_year'] = tempo_exec\n",
        "print(execution_time)"
      ]
    },
    {
      "cell_type": "code",
      "execution_count": 13,
      "metadata": {
        "colab": {
          "base_uri": "https://localhost:8080/"
        },
        "id": "pDYEsM53uKDx",
        "outputId": "4f8f715e-6111-4166-d12a-5a1c0d0b6c4a"
      },
      "outputs": [
        {
          "name": "stdout",
          "output_type": "stream",
          "text": [
            "<class 'pandas.core.frame.DataFrame'>\n",
            "RangeIndex: 4499 entries, 0 to 4498\n",
            "Data columns (total 3 columns):\n",
            " #   Column        Non-Null Count  Dtype \n",
            "---  ------        --------------  ----- \n",
            " 0   Movie_Id      4499 non-null   int64 \n",
            " 1   Movie_Name    4499 non-null   object\n",
            " 2   Release_Year  4499 non-null   int64 \n",
            "dtypes: int64(2), object(1)\n",
            "memory usage: 105.6+ KB\n"
          ]
        }
      ],
      "source": [
        "# Informações do dataframe com os nomes das colunas e seu respectivo tipo, conforme as alterações realizadas.\n",
        "df_movies.info()"
      ]
    },
    {
      "cell_type": "code",
      "execution_count": 14,
      "metadata": {
        "colab": {
          "base_uri": "https://localhost:8080/",
          "height": 206
        },
        "id": "WcNnt5ayuM0A",
        "outputId": "9adb0b93-b765-4e21-c8b7-81ac2d49e042"
      },
      "outputs": [
        {
          "data": {
            "text/html": [
              "<div>\n",
              "<style scoped>\n",
              "    .dataframe tbody tr th:only-of-type {\n",
              "        vertical-align: middle;\n",
              "    }\n",
              "\n",
              "    .dataframe tbody tr th {\n",
              "        vertical-align: top;\n",
              "    }\n",
              "\n",
              "    .dataframe thead th {\n",
              "        text-align: right;\n",
              "    }\n",
              "</style>\n",
              "<table border=\"1\" class=\"dataframe\">\n",
              "  <thead>\n",
              "    <tr style=\"text-align: right;\">\n",
              "      <th></th>\n",
              "      <th>Movie_Id</th>\n",
              "      <th>Movie_Name</th>\n",
              "      <th>Release_Year</th>\n",
              "    </tr>\n",
              "  </thead>\n",
              "  <tbody>\n",
              "    <tr>\n",
              "      <th>0</th>\n",
              "      <td>1</td>\n",
              "      <td>Dinosaur Planet</td>\n",
              "      <td>2003</td>\n",
              "    </tr>\n",
              "    <tr>\n",
              "      <th>1</th>\n",
              "      <td>2</td>\n",
              "      <td>Isle of Man TT 2004 Review</td>\n",
              "      <td>2004</td>\n",
              "    </tr>\n",
              "    <tr>\n",
              "      <th>2</th>\n",
              "      <td>3</td>\n",
              "      <td>Character</td>\n",
              "      <td>1997</td>\n",
              "    </tr>\n",
              "    <tr>\n",
              "      <th>3</th>\n",
              "      <td>4</td>\n",
              "      <td>Paula Abdul's Get Up &amp; Dance</td>\n",
              "      <td>1994</td>\n",
              "    </tr>\n",
              "    <tr>\n",
              "      <th>4</th>\n",
              "      <td>5</td>\n",
              "      <td>The Rise and Fall of ECW</td>\n",
              "      <td>2004</td>\n",
              "    </tr>\n",
              "  </tbody>\n",
              "</table>\n",
              "</div>"
            ],
            "text/plain": [
              "   Movie_Id                    Movie_Name  Release_Year\n",
              "0         1               Dinosaur Planet          2003\n",
              "1         2    Isle of Man TT 2004 Review          2004\n",
              "2         3                     Character          1997\n",
              "3         4  Paula Abdul's Get Up & Dance          1994\n",
              "4         5      The Rise and Fall of ECW          2004"
            ]
          },
          "execution_count": 14,
          "metadata": {},
          "output_type": "execute_result"
        }
      ],
      "source": [
        "# Visualização do dataframe com todas as alterações.\n",
        "df_movies.head()"
      ]
    },
    {
      "cell_type": "code",
      "execution_count": 15,
      "metadata": {
        "colab": {
          "base_uri": "https://localhost:8080/"
        },
        "id": "tkNTKu01x_jY",
        "outputId": "01d09ddc-70c0-41c8-a84f-b968fd5424e1"
      },
      "outputs": [
        {
          "name": "stdout",
          "output_type": "stream",
          "text": [
            "Movie_Id        0\n",
            "Movie_Name      0\n",
            "Release_Year    0\n",
            "dtype: int64\n",
            "{'import_time_csv': 0.013010978698730469, 'new_column_movie': 0.0020024776458740234, 'new_column_release_year': 0.0010006427764892578, 'remove_initial_column': 0.002001523971557617, 'rename_column_movie': 0.0, 'change_type_year': 0.003002643585205078, 'check_missing_data': 0.0020008087158203125}\n"
          ]
        }
      ],
      "source": [
        "# Verificando se possui dados ausentes.\n",
        "t1 = time.time()\n",
        "print(df_movies.isnull().sum())\n",
        "tempo_exec = time.time() - t1\n",
        "execution_time['check_missing_data'] = tempo_exec\n",
        "print(execution_time)"
      ]
    },
    {
      "cell_type": "code",
      "execution_count": 16,
      "metadata": {
        "colab": {
          "base_uri": "https://localhost:8080/"
        },
        "id": "lcKWzS4N6km0",
        "outputId": "fcdff759-9647-4141-b14d-9851f4a9d931"
      },
      "outputs": [
        {
          "name": "stdout",
          "output_type": "stream",
          "text": [
            "{'import_time_csv': 0.013010978698730469, 'new_column_movie': 0.0020024776458740234, 'new_column_release_year': 0.0010006427764892578, 'remove_initial_column': 0.002001523971557617, 'rename_column_movie': 0.0, 'change_type_year': 0.003002643585205078, 'check_missing_data': 0.0020008087158203125, 'check_duplicate_lines': 0.0020017623901367188}\n"
          ]
        }
      ],
      "source": [
        "# Verificando se possui linhas duplicadas na base de dados.\n",
        "t1 = time.time()\n",
        "df_movies.duplicated().sum()\n",
        "tempo_exec = time.time() - t1\n",
        "execution_time['check_duplicate_lines'] = tempo_exec\n",
        "print(execution_time)"
      ]
    },
    {
      "cell_type": "code",
      "execution_count": 17,
      "metadata": {
        "colab": {
          "base_uri": "https://localhost:8080/",
          "height": 49
        },
        "id": "exZGjB4tIjyj",
        "outputId": "1aa042ba-770f-4c37-a3ba-8e742c9c49f9"
      },
      "outputs": [
        {
          "name": "stdout",
          "output_type": "stream",
          "text": [
            "{'import_time_csv': 0.013010978698730469, 'new_column_movie': 0.0020024776458740234, 'new_column_release_year': 0.0010006427764892578, 'remove_initial_column': 0.002001523971557617, 'rename_column_movie': 0.0, 'change_type_year': 0.003002643585205078, 'check_missing_data': 0.0020008087158203125, 'check_duplicate_lines': 0.0020017623901367188, 'check_duplicate_lines_ids': 0.0010018348693847656}\n"
          ]
        },
        {
          "data": {
            "text/html": [
              "<div>\n",
              "<style scoped>\n",
              "    .dataframe tbody tr th:only-of-type {\n",
              "        vertical-align: middle;\n",
              "    }\n",
              "\n",
              "    .dataframe tbody tr th {\n",
              "        vertical-align: top;\n",
              "    }\n",
              "\n",
              "    .dataframe thead th {\n",
              "        text-align: right;\n",
              "    }\n",
              "</style>\n",
              "<table border=\"1\" class=\"dataframe\">\n",
              "  <thead>\n",
              "    <tr style=\"text-align: right;\">\n",
              "      <th></th>\n",
              "      <th>Movie_Id</th>\n",
              "      <th>Movie_Name</th>\n",
              "      <th>Release_Year</th>\n",
              "    </tr>\n",
              "  </thead>\n",
              "  <tbody>\n",
              "  </tbody>\n",
              "</table>\n",
              "</div>"
            ],
            "text/plain": [
              "Empty DataFrame\n",
              "Columns: [Movie_Id, Movie_Name, Release_Year]\n",
              "Index: []"
            ]
          },
          "execution_count": 17,
          "metadata": {},
          "output_type": "execute_result"
        }
      ],
      "source": [
        "# Verificando se possui id's duplicados.\n",
        "t1 = time.time()\n",
        "duplicado_id = (df_movies.duplicated(subset=['Movie_Id']))\n",
        "tempo_exec = time.time() - t1\n",
        "execution_time['check_duplicate_lines_ids'] = tempo_exec\n",
        "print(execution_time)\n",
        "df_movies[duplicado_id].head()"
      ]
    },
    {
      "cell_type": "code",
      "execution_count": 18,
      "metadata": {
        "id": "0aL-bEpN8Eec"
      },
      "outputs": [
        {
          "name": "stdout",
          "output_type": "stream",
          "text": [
            "{'import_time_csv': 0.013010978698730469, 'new_column_movie': 0.0020024776458740234, 'new_column_release_year': 0.0010006427764892578, 'remove_initial_column': 0.002001523971557617, 'rename_column_movie': 0.0, 'change_type_year': 0.003002643585205078, 'check_missing_data': 0.0020008087158203125, 'check_duplicate_lines': 0.0020017623901367188, 'check_duplicate_lines_ids': 0.0010018348693847656, 'check_duplicate_lines_movie_year': 0.0009996891021728516}\n"
          ]
        }
      ],
      "source": [
        "# Verificando se possui filmes com mesmo nome e mesmo ano de lançamento.\n",
        "t1 = time.time()\n",
        "duplicate_name_year = (df_movies.duplicated(subset=['Movie_Name', 'Release_Year']))\n",
        "tempo_exec = time.time() - t1\n",
        "execution_time['check_duplicate_lines_movie_year'] = tempo_exec\n",
        "print(execution_time)"
      ]
    },
    {
      "cell_type": "code",
      "execution_count": 19,
      "metadata": {
        "colab": {
          "base_uri": "https://localhost:8080/",
          "height": 81
        },
        "id": "aPlQEtBqAv1y",
        "outputId": "943ea5a0-ead3-4d81-e309-884169759864"
      },
      "outputs": [
        {
          "data": {
            "text/html": [
              "<div>\n",
              "<style scoped>\n",
              "    .dataframe tbody tr th:only-of-type {\n",
              "        vertical-align: middle;\n",
              "    }\n",
              "\n",
              "    .dataframe tbody tr th {\n",
              "        vertical-align: top;\n",
              "    }\n",
              "\n",
              "    .dataframe thead th {\n",
              "        text-align: right;\n",
              "    }\n",
              "</style>\n",
              "<table border=\"1\" class=\"dataframe\">\n",
              "  <thead>\n",
              "    <tr style=\"text-align: right;\">\n",
              "      <th></th>\n",
              "      <th>Movie_Id</th>\n",
              "      <th>Movie_Name</th>\n",
              "      <th>Release_Year</th>\n",
              "    </tr>\n",
              "  </thead>\n",
              "  <tbody>\n",
              "    <tr>\n",
              "      <th>4004</th>\n",
              "      <td>4005</td>\n",
              "      <td>Dr. Quinn</td>\n",
              "      <td>1993</td>\n",
              "    </tr>\n",
              "  </tbody>\n",
              "</table>\n",
              "</div>"
            ],
            "text/plain": [
              "      Movie_Id Movie_Name  Release_Year\n",
              "4004      4005  Dr. Quinn          1993"
            ]
          },
          "execution_count": 19,
          "metadata": {},
          "output_type": "execute_result"
        }
      ],
      "source": [
        "df_movies[duplicate_name_year].head()"
      ]
    },
    {
      "cell_type": "code",
      "execution_count": 20,
      "metadata": {
        "id": "eBTwdipHCMIV"
      },
      "outputs": [
        {
          "name": "stdout",
          "output_type": "stream",
          "text": [
            "{'import_time_csv': 0.013010978698730469, 'new_column_movie': 0.0020024776458740234, 'new_column_release_year': 0.0010006427764892578, 'remove_initial_column': 0.002001523971557617, 'rename_column_movie': 0.0, 'change_type_year': 0.003002643585205078, 'check_missing_data': 0.0020008087158203125, 'check_duplicate_lines': 0.0020017623901367188, 'check_duplicate_lines_ids': 0.0010018348693847656, 'check_duplicate_lines_movie_year': 0.0009996891021728516, 'duplicate_line_dr_quinn': 0.0}\n"
          ]
        }
      ],
      "source": [
        "t1 = time.time()\n",
        "filter_movie_duplicate = (df_movies['Movie_Name']=='Dr. Quinn')\n",
        "tempo_exec = time.time() - t1\n",
        "execution_time['duplicate_line_dr_quinn'] = tempo_exec\n",
        "print(execution_time)"
      ]
    },
    {
      "cell_type": "code",
      "execution_count": 21,
      "metadata": {
        "colab": {
          "base_uri": "https://localhost:8080/",
          "height": 143
        },
        "id": "mpcbpZoVCadQ",
        "outputId": "f387c3db-f303-49d5-c406-2caf4b15ed40"
      },
      "outputs": [
        {
          "data": {
            "text/html": [
              "<div>\n",
              "<style scoped>\n",
              "    .dataframe tbody tr th:only-of-type {\n",
              "        vertical-align: middle;\n",
              "    }\n",
              "\n",
              "    .dataframe tbody tr th {\n",
              "        vertical-align: top;\n",
              "    }\n",
              "\n",
              "    .dataframe thead th {\n",
              "        text-align: right;\n",
              "    }\n",
              "</style>\n",
              "<table border=\"1\" class=\"dataframe\">\n",
              "  <thead>\n",
              "    <tr style=\"text-align: right;\">\n",
              "      <th></th>\n",
              "      <th>Movie_Id</th>\n",
              "      <th>Movie_Name</th>\n",
              "      <th>Release_Year</th>\n",
              "    </tr>\n",
              "  </thead>\n",
              "  <tbody>\n",
              "    <tr>\n",
              "      <th>349</th>\n",
              "      <td>350</td>\n",
              "      <td>Dr. Quinn</td>\n",
              "      <td>1993</td>\n",
              "    </tr>\n",
              "    <tr>\n",
              "      <th>1014</th>\n",
              "      <td>1015</td>\n",
              "      <td>Dr. Quinn</td>\n",
              "      <td>1996</td>\n",
              "    </tr>\n",
              "    <tr>\n",
              "      <th>4004</th>\n",
              "      <td>4005</td>\n",
              "      <td>Dr. Quinn</td>\n",
              "      <td>1993</td>\n",
              "    </tr>\n",
              "  </tbody>\n",
              "</table>\n",
              "</div>"
            ],
            "text/plain": [
              "      Movie_Id Movie_Name  Release_Year\n",
              "349        350  Dr. Quinn          1993\n",
              "1014      1015  Dr. Quinn          1996\n",
              "4004      4005  Dr. Quinn          1993"
            ]
          },
          "execution_count": 21,
          "metadata": {},
          "output_type": "execute_result"
        }
      ],
      "source": [
        "# Temos dois filmes do Dr. Quinn com ID_Filme diferente, porém, com mesmo nome e mesmo ano de lançamento.\n",
        "df_movies[filter_movie_duplicate].head()"
      ]
    },
    {
      "cell_type": "markdown",
      "metadata": {},
      "source": [
        "Observação: Apesar de existir dois registros com o mesmo nome (Dr. Quinn) e mesmo ano de lançamento (1993), realizando uma busca na internet, foi verificado que no ano de 1993 foram lançados duas temporadas de Dr. Quinn. Dessa forma, os registros estão se referindo a temporadas diferentes, não sendo considerado um registro duplicado."
      ]
    },
    {
      "cell_type": "markdown",
      "metadata": {
        "id": "wKw7j077vDLe"
      },
      "source": [
        "#### Tratamento do banco de dados da base2 com as avaliações dos usuários"
      ]
    },
    {
      "cell_type": "code",
      "execution_count": 22,
      "metadata": {},
      "outputs": [],
      "source": [
        "execution_time2={}"
      ]
    },
    {
      "cell_type": "code",
      "execution_count": 23,
      "metadata": {
        "id": "X-RiUhN4uYdI"
      },
      "outputs": [
        {
          "name": "stdout",
          "output_type": "stream",
          "text": [
            "{'import_time_csv': 5.142683029174805}\n"
          ]
        }
      ],
      "source": [
        "# Importando a base de dados.\n",
        "t1 = time.time()\n",
        "df_customers_rating = pd.read_csv('customers_rating.csv', sep=';')\n",
        "tempo_exec = time.time() - t1\n",
        "execution_time2['import_time_csv'] = tempo_exec\n",
        "print(execution_time2)"
      ]
    },
    {
      "cell_type": "code",
      "execution_count": 24,
      "metadata": {
        "colab": {
          "base_uri": "https://localhost:8080/",
          "height": 206
        },
        "id": "bcWvk8rnvemb",
        "outputId": "ca9dbbb6-1a0d-46d7-f849-b87611fed297"
      },
      "outputs": [
        {
          "data": {
            "text/html": [
              "<div>\n",
              "<style scoped>\n",
              "    .dataframe tbody tr th:only-of-type {\n",
              "        vertical-align: middle;\n",
              "    }\n",
              "\n",
              "    .dataframe tbody tr th {\n",
              "        vertical-align: top;\n",
              "    }\n",
              "\n",
              "    .dataframe thead th {\n",
              "        text-align: right;\n",
              "    }\n",
              "</style>\n",
              "<table border=\"1\" class=\"dataframe\">\n",
              "  <thead>\n",
              "    <tr style=\"text-align: right;\">\n",
              "      <th></th>\n",
              "      <th>Cust_Id</th>\n",
              "      <th>Rating</th>\n",
              "      <th>Date</th>\n",
              "      <th>Movie_Id</th>\n",
              "    </tr>\n",
              "  </thead>\n",
              "  <tbody>\n",
              "    <tr>\n",
              "      <th>0</th>\n",
              "      <td>1488844</td>\n",
              "      <td>3.0</td>\n",
              "      <td>2005-09-06</td>\n",
              "      <td>1</td>\n",
              "    </tr>\n",
              "    <tr>\n",
              "      <th>1</th>\n",
              "      <td>822109</td>\n",
              "      <td>5.0</td>\n",
              "      <td>2005-05-13</td>\n",
              "      <td>1</td>\n",
              "    </tr>\n",
              "    <tr>\n",
              "      <th>2</th>\n",
              "      <td>885013</td>\n",
              "      <td>4.0</td>\n",
              "      <td>2005-10-19</td>\n",
              "      <td>1</td>\n",
              "    </tr>\n",
              "    <tr>\n",
              "      <th>3</th>\n",
              "      <td>30878</td>\n",
              "      <td>4.0</td>\n",
              "      <td>2005-12-26</td>\n",
              "      <td>1</td>\n",
              "    </tr>\n",
              "    <tr>\n",
              "      <th>4</th>\n",
              "      <td>823519</td>\n",
              "      <td>3.0</td>\n",
              "      <td>2004-05-03</td>\n",
              "      <td>1</td>\n",
              "    </tr>\n",
              "  </tbody>\n",
              "</table>\n",
              "</div>"
            ],
            "text/plain": [
              "   Cust_Id  Rating        Date  Movie_Id\n",
              "0  1488844     3.0  2005-09-06         1\n",
              "1   822109     5.0  2005-05-13         1\n",
              "2   885013     4.0  2005-10-19         1\n",
              "3    30878     4.0  2005-12-26         1\n",
              "4   823519     3.0  2004-05-03         1"
            ]
          },
          "execution_count": 24,
          "metadata": {},
          "output_type": "execute_result"
        }
      ],
      "source": [
        "# Visualização do dataframe.\n",
        "df_customers_rating.head()"
      ]
    },
    {
      "cell_type": "code",
      "execution_count": 25,
      "metadata": {
        "colab": {
          "base_uri": "https://localhost:8080/"
        },
        "id": "3BpOH2boxuUw",
        "outputId": "b4e3b071-547f-43ae-f6fa-430dbd458952"
      },
      "outputs": [
        {
          "name": "stdout",
          "output_type": "stream",
          "text": [
            "Cust_Id     0\n",
            "Rating      0\n",
            "Date        0\n",
            "Movie_Id    0\n",
            "dtype: int64\n",
            "{'import_time_csv': 5.142683029174805, 'check_missing_data': 1.4913618564605713}\n"
          ]
        }
      ],
      "source": [
        "# Verificando se possui dados ausentes.\n",
        "t1 = time.time()\n",
        "print(df_customers_rating.isnull().sum())\n",
        "tempo_exec = time.time() - t1\n",
        "execution_time2['check_missing_data'] = tempo_exec\n",
        "print(execution_time2)"
      ]
    },
    {
      "cell_type": "code",
      "execution_count": 26,
      "metadata": {
        "colab": {
          "base_uri": "https://localhost:8080/"
        },
        "id": "nOSt5M5Q3vEm",
        "outputId": "22150362-cf22-43f3-dd57-87a59bf30c61"
      },
      "outputs": [
        {
          "name": "stdout",
          "output_type": "stream",
          "text": [
            "<class 'pandas.core.frame.DataFrame'>\n",
            "RangeIndex: 24053764 entries, 0 to 24053763\n",
            "Data columns (total 4 columns):\n",
            " #   Column    Dtype  \n",
            "---  ------    -----  \n",
            " 0   Cust_Id   int64  \n",
            " 1   Rating    float64\n",
            " 2   Date      object \n",
            " 3   Movie_Id  int64  \n",
            "dtypes: float64(1), int64(2), object(1)\n",
            "memory usage: 734.1+ MB\n"
          ]
        }
      ],
      "source": [
        "# Informações sobre o dataframe. \n",
        "df_customers_rating.info()"
      ]
    },
    {
      "cell_type": "code",
      "execution_count": 27,
      "metadata": {
        "id": "JVHKs0o54etQ"
      },
      "outputs": [
        {
          "name": "stdout",
          "output_type": "stream",
          "text": [
            "{'import_time_csv': 5.142683029174805, 'check_missing_data': 1.4913618564605713, 'change_type_date': 1.6875314712524414}\n"
          ]
        }
      ],
      "source": [
        "# Realizando a converteção da coluna de Date para datetime. Importante trabalhar com essa coluna no formato de data.\n",
        "t1 = time.time()\n",
        "df_customers_rating['Date'] = pd.to_datetime(df_customers_rating['Date'], format='%Y-%m-%d')\n",
        "tempo_exec = time.time() - t1\n",
        "execution_time2['change_type_date'] = tempo_exec\n",
        "print(execution_time2)"
      ]
    },
    {
      "cell_type": "code",
      "execution_count": 28,
      "metadata": {
        "id": "YZeTnlct40VA"
      },
      "outputs": [
        {
          "data": {
            "text/html": [
              "<div>\n",
              "<style scoped>\n",
              "    .dataframe tbody tr th:only-of-type {\n",
              "        vertical-align: middle;\n",
              "    }\n",
              "\n",
              "    .dataframe tbody tr th {\n",
              "        vertical-align: top;\n",
              "    }\n",
              "\n",
              "    .dataframe thead th {\n",
              "        text-align: right;\n",
              "    }\n",
              "</style>\n",
              "<table border=\"1\" class=\"dataframe\">\n",
              "  <thead>\n",
              "    <tr style=\"text-align: right;\">\n",
              "      <th></th>\n",
              "      <th>Cust_Id</th>\n",
              "      <th>Rating</th>\n",
              "      <th>Date</th>\n",
              "      <th>Movie_Id</th>\n",
              "    </tr>\n",
              "  </thead>\n",
              "  <tbody>\n",
              "    <tr>\n",
              "      <th>0</th>\n",
              "      <td>1488844</td>\n",
              "      <td>3.0</td>\n",
              "      <td>2005-09-06</td>\n",
              "      <td>1</td>\n",
              "    </tr>\n",
              "    <tr>\n",
              "      <th>1</th>\n",
              "      <td>822109</td>\n",
              "      <td>5.0</td>\n",
              "      <td>2005-05-13</td>\n",
              "      <td>1</td>\n",
              "    </tr>\n",
              "    <tr>\n",
              "      <th>2</th>\n",
              "      <td>885013</td>\n",
              "      <td>4.0</td>\n",
              "      <td>2005-10-19</td>\n",
              "      <td>1</td>\n",
              "    </tr>\n",
              "    <tr>\n",
              "      <th>3</th>\n",
              "      <td>30878</td>\n",
              "      <td>4.0</td>\n",
              "      <td>2005-12-26</td>\n",
              "      <td>1</td>\n",
              "    </tr>\n",
              "    <tr>\n",
              "      <th>4</th>\n",
              "      <td>823519</td>\n",
              "      <td>3.0</td>\n",
              "      <td>2004-05-03</td>\n",
              "      <td>1</td>\n",
              "    </tr>\n",
              "  </tbody>\n",
              "</table>\n",
              "</div>"
            ],
            "text/plain": [
              "   Cust_Id  Rating       Date  Movie_Id\n",
              "0  1488844     3.0 2005-09-06         1\n",
              "1   822109     5.0 2005-05-13         1\n",
              "2   885013     4.0 2005-10-19         1\n",
              "3    30878     4.0 2005-12-26         1\n",
              "4   823519     3.0 2004-05-03         1"
            ]
          },
          "execution_count": 28,
          "metadata": {},
          "output_type": "execute_result"
        }
      ],
      "source": [
        "df_customers_rating.head()"
      ]
    },
    {
      "cell_type": "code",
      "execution_count": 29,
      "metadata": {
        "id": "xT1QFZJT6Gug"
      },
      "outputs": [
        {
          "name": "stdout",
          "output_type": "stream",
          "text": [
            "<class 'pandas.core.frame.DataFrame'>\n",
            "RangeIndex: 24053764 entries, 0 to 24053763\n",
            "Data columns (total 4 columns):\n",
            " #   Column    Dtype         \n",
            "---  ------    -----         \n",
            " 0   Cust_Id   int64         \n",
            " 1   Rating    float64       \n",
            " 2   Date      datetime64[ns]\n",
            " 3   Movie_Id  int64         \n",
            "dtypes: datetime64[ns](1), float64(1), int64(2)\n",
            "memory usage: 734.1 MB\n"
          ]
        }
      ],
      "source": [
        "# Confirmando a mudança da coluna Date para datetime.\n",
        "df_customers_rating.info()"
      ]
    },
    {
      "cell_type": "code",
      "execution_count": 30,
      "metadata": {
        "id": "eWqBshgKGs9F"
      },
      "outputs": [
        {
          "name": "stdout",
          "output_type": "stream",
          "text": [
            "{'import_time_csv': 5.142683029174805, 'check_missing_data': 1.4913618564605713, 'change_type_date': 1.6875314712524414, 'rating_duplicate_line': 3.0790481567382812}\n"
          ]
        }
      ],
      "source": [
        "# Verificação se possui avaliações duplicadas de clientes, considerando mesmo id do cliente, id do filme e avaliação.\n",
        "t1 = time.time()\n",
        "duplicadas_clientes = (df_customers_rating.duplicated(subset=['Cust_Id', 'Movie_Id', 'Rating']))\n",
        "tempo_exec = time.time() - t1\n",
        "execution_time2['rating_duplicate_line'] = tempo_exec\n",
        "print(execution_time2)"
      ]
    },
    {
      "cell_type": "code",
      "execution_count": 31,
      "metadata": {},
      "outputs": [
        {
          "data": {
            "text/html": [
              "<div>\n",
              "<style scoped>\n",
              "    .dataframe tbody tr th:only-of-type {\n",
              "        vertical-align: middle;\n",
              "    }\n",
              "\n",
              "    .dataframe tbody tr th {\n",
              "        vertical-align: top;\n",
              "    }\n",
              "\n",
              "    .dataframe thead th {\n",
              "        text-align: right;\n",
              "    }\n",
              "</style>\n",
              "<table border=\"1\" class=\"dataframe\">\n",
              "  <thead>\n",
              "    <tr style=\"text-align: right;\">\n",
              "      <th></th>\n",
              "      <th>Cust_Id</th>\n",
              "      <th>Rating</th>\n",
              "      <th>Date</th>\n",
              "      <th>Movie_Id</th>\n",
              "    </tr>\n",
              "  </thead>\n",
              "  <tbody>\n",
              "  </tbody>\n",
              "</table>\n",
              "</div>"
            ],
            "text/plain": [
              "Empty DataFrame\n",
              "Columns: [Cust_Id, Rating, Date, Movie_Id]\n",
              "Index: []"
            ]
          },
          "execution_count": 31,
          "metadata": {},
          "output_type": "execute_result"
        }
      ],
      "source": [
        "df_customers_rating[duplicadas_clientes].head()"
      ]
    },
    {
      "cell_type": "markdown",
      "metadata": {
        "id": "qwX-8TYiJ1Hd"
      },
      "source": [
        "### **Criando um novo dataframe com join do df_movies e df_customers_rating**"
      ]
    },
    {
      "cell_type": "code",
      "execution_count": 32,
      "metadata": {
        "id": "BlQkDdjcJ0v5"
      },
      "outputs": [
        {
          "name": "stdout",
          "output_type": "stream",
          "text": [
            "{'import_time_csv': 5.142683029174805, 'check_missing_data': 1.4913618564605713, 'change_type_date': 1.6875314712524414, 'rating_duplicate_line': 3.0790481567382812, 'merge_tables': 1.9287548065185547}\n"
          ]
        }
      ],
      "source": [
        "# Como a análise será realizada apenas com os filmes que possuem avaliações de clientes, \n",
        "# será realizado um join considerando a interseção entre as tabelas.\n",
        "t1 = time.time()\n",
        "df_join_movies_rating = pd.merge(df_movies, df_customers_rating, how='inner', on='Movie_Id')\n",
        "tempo_exec = time.time() - t1\n",
        "execution_time2['merge_tables'] = tempo_exec\n",
        "print(execution_time2)"
      ]
    },
    {
      "cell_type": "code",
      "execution_count": 33,
      "metadata": {},
      "outputs": [
        {
          "data": {
            "text/html": [
              "<div>\n",
              "<style scoped>\n",
              "    .dataframe tbody tr th:only-of-type {\n",
              "        vertical-align: middle;\n",
              "    }\n",
              "\n",
              "    .dataframe tbody tr th {\n",
              "        vertical-align: top;\n",
              "    }\n",
              "\n",
              "    .dataframe thead th {\n",
              "        text-align: right;\n",
              "    }\n",
              "</style>\n",
              "<table border=\"1\" class=\"dataframe\">\n",
              "  <thead>\n",
              "    <tr style=\"text-align: right;\">\n",
              "      <th></th>\n",
              "      <th>Movie_Id</th>\n",
              "      <th>Movie_Name</th>\n",
              "      <th>Release_Year</th>\n",
              "      <th>Cust_Id</th>\n",
              "      <th>Rating</th>\n",
              "      <th>Date</th>\n",
              "    </tr>\n",
              "  </thead>\n",
              "  <tbody>\n",
              "    <tr>\n",
              "      <th>0</th>\n",
              "      <td>1</td>\n",
              "      <td>Dinosaur Planet</td>\n",
              "      <td>2003</td>\n",
              "      <td>1488844</td>\n",
              "      <td>3.0</td>\n",
              "      <td>2005-09-06</td>\n",
              "    </tr>\n",
              "    <tr>\n",
              "      <th>1</th>\n",
              "      <td>1</td>\n",
              "      <td>Dinosaur Planet</td>\n",
              "      <td>2003</td>\n",
              "      <td>822109</td>\n",
              "      <td>5.0</td>\n",
              "      <td>2005-05-13</td>\n",
              "    </tr>\n",
              "    <tr>\n",
              "      <th>2</th>\n",
              "      <td>1</td>\n",
              "      <td>Dinosaur Planet</td>\n",
              "      <td>2003</td>\n",
              "      <td>885013</td>\n",
              "      <td>4.0</td>\n",
              "      <td>2005-10-19</td>\n",
              "    </tr>\n",
              "    <tr>\n",
              "      <th>3</th>\n",
              "      <td>1</td>\n",
              "      <td>Dinosaur Planet</td>\n",
              "      <td>2003</td>\n",
              "      <td>30878</td>\n",
              "      <td>4.0</td>\n",
              "      <td>2005-12-26</td>\n",
              "    </tr>\n",
              "    <tr>\n",
              "      <th>4</th>\n",
              "      <td>1</td>\n",
              "      <td>Dinosaur Planet</td>\n",
              "      <td>2003</td>\n",
              "      <td>823519</td>\n",
              "      <td>3.0</td>\n",
              "      <td>2004-05-03</td>\n",
              "    </tr>\n",
              "  </tbody>\n",
              "</table>\n",
              "</div>"
            ],
            "text/plain": [
              "   Movie_Id       Movie_Name  Release_Year  Cust_Id  Rating       Date\n",
              "0         1  Dinosaur Planet          2003  1488844     3.0 2005-09-06\n",
              "1         1  Dinosaur Planet          2003   822109     5.0 2005-05-13\n",
              "2         1  Dinosaur Planet          2003   885013     4.0 2005-10-19\n",
              "3         1  Dinosaur Planet          2003    30878     4.0 2005-12-26\n",
              "4         1  Dinosaur Planet          2003   823519     3.0 2004-05-03"
            ]
          },
          "execution_count": 33,
          "metadata": {},
          "output_type": "execute_result"
        }
      ],
      "source": [
        "df_join_movies_rating.head()"
      ]
    },
    {
      "cell_type": "code",
      "execution_count": 34,
      "metadata": {},
      "outputs": [
        {
          "data": {
            "text/plain": [
              "24053764"
            ]
          },
          "execution_count": 34,
          "metadata": {},
          "output_type": "execute_result"
        }
      ],
      "source": [
        "# Quantidade de registros no dataframe\n",
        "df_join_movies_rating.shape[0]"
      ]
    },
    {
      "cell_type": "code",
      "execution_count": 35,
      "metadata": {},
      "outputs": [
        {
          "name": "stdout",
          "output_type": "stream",
          "text": [
            "{'import_time_csv': 5.142683029174805, 'check_missing_data': 1.4913618564605713, 'change_type_date': 1.6875314712524414, 'rating_duplicate_line': 3.0790481567382812, 'merge_tables': 1.9287548065185547, 'final_load_delta': 3.892413854598999}\n"
          ]
        }
      ],
      "source": [
        "# Load dos dados (salvamento)\n",
        "# Delta\n",
        "import pyarrow as pa\n",
        "t1 = time.time()\n",
        "df_join_movies_rating.to_parquet('./final_data.delta', engine='fastparquet', index=False)\n",
        "tempo_exec = time.time() - t1\n",
        "execution_time2['final_load_delta'] = tempo_exec\n",
        "print(execution_time2)"
      ]
    },
    {
      "cell_type": "code",
      "execution_count": 36,
      "metadata": {},
      "outputs": [
        {
          "name": "stdout",
          "output_type": "stream",
          "text": [
            "{'import_time_csv': 5.142683029174805, 'check_missing_data': 1.4913618564605713, 'change_type_date': 1.6875314712524414, 'rating_duplicate_line': 3.0790481567382812, 'merge_tables': 1.9287548065185547, 'final_load_delta': 3.892413854598999, 'final_load_parquet': 28.895918607711792}\n"
          ]
        }
      ],
      "source": [
        "# Load dos dados (salvamento)\n",
        "# parquet\n",
        "t1 = time.time()\n",
        "df_join_movies_rating.to_parquet('./final_data.parquet', compression='gzip')\n",
        "tempo_exec = time.time() - t1\n",
        "execution_time2['final_load_parquet'] = tempo_exec\n",
        "print(execution_time2)"
      ]
    },
    {
      "cell_type": "code",
      "execution_count": 37,
      "metadata": {},
      "outputs": [
        {
          "name": "stdout",
          "output_type": "stream",
          "text": [
            "{'import_time_csv': 5.142683029174805, 'check_missing_data': 1.4913618564605713, 'change_type_date': 1.6875314712524414, 'rating_duplicate_line': 3.0790481567382812, 'merge_tables': 1.9287548065185547, 'final_load_delta': 3.892413854598999, 'final_load_parquet': 28.895918607711792, 'final_load_csv': 44.454047203063965}\n"
          ]
        }
      ],
      "source": [
        "# Load dos dados (salvamento)\n",
        "# csv\n",
        "t1 = time.time()\n",
        "df_join_movies_rating.to_csv('./final_data.csv', index=False)\n",
        "tempo_exec = time.time() - t1\n",
        "execution_time2['final_load_csv'] = tempo_exec\n",
        "print(execution_time2)"
      ]
    },
    {
      "cell_type": "code",
      "execution_count": 38,
      "metadata": {},
      "outputs": [],
      "source": [
        "# Salvar os dicionarios com os tempos de execucao para criar o grafico (formato json)\n",
        "import json\n",
        "\n",
        "with open('execution_time.json', 'w') as f:\n",
        "    json.dump(execution_time, f)\n",
        "\n",
        "with open('execution_time2.json', 'w') as f:\n",
        "    json.dump(execution_time2, f)\n"
      ]
    }
  ],
  "metadata": {
    "colab": {
      "provenance": []
    },
    "kernelspec": {
      "display_name": "Python 3",
      "language": "python",
      "name": "python3"
    },
    "language_info": {
      "codemirror_mode": {
        "name": "ipython",
        "version": 3
      },
      "file_extension": ".py",
      "mimetype": "text/x-python",
      "name": "python",
      "nbconvert_exporter": "python",
      "pygments_lexer": "ipython3",
      "version": "3.11.0"
    },
    "vscode": {
      "interpreter": {
        "hash": "7e653313aa5c54a0675bb7f68a7b7b01def7211ef5659725a8367c74650dfa89"
      }
    }
  },
  "nbformat": 4,
  "nbformat_minor": 0
}
